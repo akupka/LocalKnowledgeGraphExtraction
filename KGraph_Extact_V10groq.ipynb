{
 "cells": [
  {
   "cell_type": "markdown",
   "metadata": {
    "editable": true,
    "slideshow": {
     "slide_type": ""
    },
    "tags": []
   },
   "source": [
    "## Setup"
   ]
  },
  {
   "cell_type": "code",
   "execution_count": 19,
   "metadata": {},
   "outputs": [],
   "source": [
    "import pandas as pd\n",
    "import numpy as np\n",
    "import os\n",
    "from langchain_community.document_loaders import TextLoader\n",
    "from langchain.text_splitter import RecursiveCharacterTextSplitter\n",
    "from pathlib import Path\n",
    "import random\n",
    "from langchain_groq import ChatGroq\n",
    "from langchain_core.prompts import ChatPromptTemplate\n"
   ]
  },
  {
   "cell_type": "code",
   "execution_count": 2,
   "metadata": {},
   "outputs": [],
   "source": [
    "# packages used by helper functions\n",
    "import uuid"
   ]
  },
  {
   "cell_type": "code",
   "execution_count": 3,
   "metadata": {},
   "outputs": [],
   "source": [
    "# packages for prompting definitions\n",
    "import sys\n",
    "sys.path.append(\"..\")\n",
    "import json"
   ]
  },
  {
   "cell_type": "code",
   "execution_count": 6,
   "metadata": {},
   "outputs": [],
   "source": [
    "from groq import Groq\n",
    "groq_api_key=\"api key\"\n",
    "\n",
    "chat = ChatGroq(temperature=0, groq_api_key=\"api key\", model_name=\"mixtral-8x7b-32768\")\n"
   ]
  },
  {
   "cell_type": "markdown",
   "metadata": {},
   "source": [
    "## Prompt definitions (function to extract triplets in JSON-format for knowledge graph from text chunks)"
   ]
  },
  {
   "cell_type": "markdown",
   "metadata": {},
   "source": []
  },
  {
   "cell_type": "code",
   "execution_count": 51,
   "metadata": {
    "editable": true,
    "slideshow": {
     "slide_type": ""
    },
    "tags": []
   },
   "outputs": [],
   "source": [
    "#################################\n",
    "# Definition of used LLM\n",
    "#################################\n",
    "##########################################################################\n",
    "def graphPrompt(input: str, metadata={}, model=\"mistral:latest\"):\n",
    "    if model == None:\n",
    "        model = \"mistral:latest\"\n",
    "    \n",
    "    chunk_id = metadata.get('chunk_id', None)\n",
    "\n",
    "    # model_info = client.show(model_name=model)\n",
    "    # print( chalk.blue(model_info))\n",
    "\n",
    "    SYS_PROMPT = (\"You are a network graph maker who extracts terms and their relations from a given context. \"\n",
    "        \"You are provided with a context chunk (delimited by ```) Your task is to extract the ontology \"\n",
    "        \"of terms mentioned in the given context. These terms should represent the key concepts as per the context. \\n\"\n",
    "        \"Thought 1: While traversing through each sentence, Think about the key terms mentioned in it.\\n\"\n",
    "            \"\\tTerms may include requirement (AFO), rfc, organization, date, duration, \\n\"\n",
    "            \"\\tcondition, concept, object, entity  etc.\\n\"\n",
    "            \"\\tTerms should be as atomistic as possible\\n\\n\"\n",
    "        \"Thought 2: Think about how these terms can have one on one relation with other terms.\\n\"\n",
    "            \"\\tTerms that are mentioned in the same sentence or the same paragraph are typically related to each other.\\n\"\n",
    "            \"\\tTerms can be related to many other terms\\n\\n\"\n",
    "        \"Thought 3: Find out the relation between each such related pair of terms. \\n\\n\"\n",
    "        \"Format your output as a list of json. Each element of the list contains a pair of terms\"\n",
    "        \"and the relation between them like the follwing. NEVER change the value of the chunk_ID as defined in this prompt: \\n\"\n",
    "        \"[\\n\"\n",
    "        \"   {\\n\"\n",
    "        '       \"chunk_id\": \"CHUNK_ID_GOES_HERE\",\\n'\n",
    "        '       \"node_1\": \"A concept from extracted ontology\",\\n'\n",
    "        '       \"node_2\": \"A related concept from extracted ontology\",\\n'\n",
    "        '       \"edge\": \"relationship between the two concepts, node_1 and node_2 in one or two sentences\"\\n' \n",
    "        \"   }, {...}\\n\"\n",
    "        \"]\"\n",
    "    )\n",
    "    SYS_PROMPT = SYS_PROMPT.replace('CHUNK_ID_GOES_HERE', chunk_id)\n",
    "\n",
    "    USER_PROMPT = f\"context: ```{input}``` \\n\\n output: \"\n",
    "    print(\"USER_PROMPT promt\\n\")\n",
    "    print(USER_PROMPT)\n",
    "    #response = client.generate(model=\"mistral:latest\", system=SYS_PROMPT, prompt=USER_PROMPT)\n",
    "    human = \"context: ```{input}``` \\n\\n output: \"\n",
    "    prompt = ChatPromptTemplate.from_messages([(\"system\", SYS_PROMPT), (\"human\", human)])\n",
    "    print(\"Prompt\\n\")\n",
    "    print(prompt)\n",
    "    chain = prompt | chat\n",
    "    print(\"cbain\\n\")\n",
    "    print(chain)\n",
    "    aux1=chain.invoke({\"input\":input})\n",
    "    print(\"aux\\n\")\n",
    "    print(aux1)\n",
    "\n",
    "    #aux1 = response['response']\n",
    "    # Find the index of the first open bracket '['\n",
    "    start_index = aux1.find('[')\n",
    "    # Slice the string from start_index to extract the JSON part and fix an unexpected problem with insertes escapes (WHY ?)\n",
    "    json_string = aux1[start_index:]\n",
    "    json_string = json_string.replace('\\\\\\\\\\_', '_')\n",
    "    json_string = json_string.replace('\\\\\\\\_', '_')\n",
    "    json_string = json_string.replace('\\\\\\_', '_')\n",
    "    json_string = json_string.replace('\\\\_', '_')\n",
    "    json_string = json_string.replace('\\_', '_')\n",
    "    json_string.lstrip() # eliminate eventual leading blank spaces\n",
    "#####################################################\n",
    "    print(\"json-string:\\n\" + json_string)\n",
    "#####################################################         \n",
    "    try:\n",
    "        result = json.loads(json_string)\n",
    "        result = [dict(item) for item in result]\n",
    "    except:\n",
    "        print(\"\\n\\nERROR ### Here is the buggy response: \", response, \"\\n\\n\")\n",
    "        result = None\n",
    "    print(\"§§§§§§§§§§§§§§§§§§§§§§§§§§§§§§§§§§§§§§§§§§§§§§§§§§§§§§§§§§§§§§§§§§§§§§§§§§§§§\")\n",
    "\n",
    "    return result"
   ]
  },
  {
   "cell_type": "markdown",
   "metadata": {},
   "source": [
    "## Functions"
   ]
  },
  {
   "cell_type": "code",
   "execution_count": 8,
   "metadata": {},
   "outputs": [],
   "source": [
    "def documents2Dataframe(documents) -> pd.DataFrame:\n",
    "    rows = []\n",
    "    for chunk in documents:\n",
    "        row = {\n",
    "            \"text\": chunk.page_content,\n",
    "            **chunk.metadata,\n",
    "            \"chunk_id\": uuid.uuid4().hex,\n",
    "        }\n",
    "        rows = rows + [row]\n",
    "\n",
    "    df = pd.DataFrame(rows)\n",
    "    return df"
   ]
  },
  {
   "cell_type": "code",
   "execution_count": 9,
   "metadata": {},
   "outputs": [],
   "source": [
    "def df2Graph(dataframe: pd.DataFrame, model=None) -> list:\n",
    "    # dataframe.reset_index(inplace=True)\n",
    "    results = dataframe.apply(\n",
    "        lambda row: graphPrompt(row.text, {\"chunk_id\": row.chunk_id}, model), axis=1\n",
    "    )\n",
    "    # invalid json results in NaN\n",
    "    results = results.dropna()\n",
    "    results = results.reset_index(drop=True)\n",
    "\n",
    "    ## Flatten the list of lists to one single list of entities.\n",
    "    concept_list = np.concatenate(results).ravel().tolist()\n",
    "    return concept_list"
   ]
  },
  {
   "cell_type": "code",
   "execution_count": 10,
   "metadata": {},
   "outputs": [],
   "source": [
    "def graph2Df(nodes_list) -> pd.DataFrame:\n",
    "    ## Remove all NaN entities\n",
    "    graph_dataframe = pd.DataFrame(nodes_list).replace(\" \", np.nan)\n",
    "    graph_dataframe = graph_dataframe.dropna(subset=[\"node_1\", \"node_2\"])\n",
    "    graph_dataframe[\"node_1\"] = graph_dataframe[\"node_1\"].apply(lambda x: x.lower())\n",
    "    graph_dataframe[\"node_2\"] = graph_dataframe[\"node_2\"].apply(lambda x: x.lower())\n",
    "\n",
    "    return graph_dataframe"
   ]
  },
  {
   "cell_type": "code",
   "execution_count": 11,
   "metadata": {},
   "outputs": [],
   "source": [
    "def contextual_proximity(df: pd.DataFrame) -> pd.DataFrame:\n",
    "    ## Melt the dataframe into a list of nodes\n",
    "    dfg_long = pd.melt(\n",
    "        df, id_vars=[\"chunk_id\"], value_vars=[\"node_1\", \"node_2\"], value_name=\"node\"\n",
    "    )\n",
    "    dfg_long.drop(columns=[\"variable\"], inplace=True)\n",
    "    # Self join with chunk id as the key will create a link between terms occuring in the same text chunk.\n",
    "    dfg_wide = pd.merge(dfg_long, dfg_long, on=\"chunk_id\", suffixes=(\"_1\", \"_2\"))\n",
    "    # drop self loops\n",
    "    self_loops_drop = dfg_wide[dfg_wide[\"node_1\"] == dfg_wide[\"node_2\"]].index\n",
    "    dfg2 = dfg_wide.drop(index=self_loops_drop).reset_index(drop=True)\n",
    "    ## Group and count edges.\n",
    "    dfg2 = (\n",
    "        dfg2.groupby([\"node_1\", \"node_2\"])\n",
    "        .agg({\"chunk_id\": [\",\".join, \"count\"]})\n",
    "        .reset_index()\n",
    "    )\n",
    "    dfg2.columns = [\"node_1\", \"node_2\", \"chunk_id\", \"count\"]\n",
    "    dfg2.replace(\"\", np.nan, inplace=True)\n",
    "    dfg2.dropna(subset=[\"node_1\", \"node_2\"], inplace=True)\n",
    "    # Drop edges with 1 count\n",
    "    dfg2 = dfg2[dfg2[\"count\"] != 1]\n",
    "    dfg2[\"edge\"] = \"contextual proximity\"\n",
    "    return dfg2"
   ]
  },
  {
   "cell_type": "markdown",
   "metadata": {},
   "source": [
    "## Variables"
   ]
  },
  {
   "cell_type": "code",
   "execution_count": 12,
   "metadata": {},
   "outputs": [
    {
     "name": "stdout",
     "output_type": "stream",
     "text": [
      "HotG_Data/gemSpec_VZD_V1.14.0.pdf.txt\n",
      "gemSpec_VZD_V1.14.0.pdf\n"
     ]
    }
   ],
   "source": [
    "import pdfplumber\n",
    "## Input data directory\n",
    "##########################################################\n",
    "input_file_name = \"gemSpec_VZD_V1.14.0.pdf\"\n",
    "##########################################################\n",
    "data_dir = \"./HotG_Data/\"+input_file_name\n",
    "inputdirectory = Path(f\"./{data_dir+'.txt'}\")\n",
    "\n",
    "with pdfplumber.open(data_dir) as pdf:\n",
    "    # Leeren String zum Speichern des Texts\n",
    "    text = ''\n",
    "    \n",
    "    # Über alle Seiten iterieren\n",
    "    for page in pdf.pages:\n",
    "        # Text der aktuellen Seite extrahieren und an den Gesamttext anhängen\n",
    "        text += page.extract_text()\n",
    "\n",
    "# Text in eine TXT-Datei schreiben\n",
    "with open(data_dir+'.txt', 'w', encoding='utf-8') as txt_file:\n",
    "    txt_file.write(text)\n",
    "\n",
    "## This is where the output csv files will be written\n",
    "outputdirectory = Path(f\"./data_output\")\n",
    "\n",
    "print(inputdirectory)\n",
    "print(input_file_name)"
   ]
  },
  {
   "cell_type": "code",
   "execution_count": 13,
   "metadata": {},
   "outputs": [
    {
     "name": "stdout",
     "output_type": "stream",
     "text": [
      "data_output/graph_gemSpec_VZD_V1.14.0.pdf.csv\n",
      "data_output/chunks_gemSpec_VZD_V1.14.0.pdf.csv\n",
      "data_output/graph_contex_prox_gemSpec_VZD_V1.14.0.pdf.csv\n"
     ]
    }
   ],
   "source": [
    "input_file_name=input_file_name+'.txt'\n",
    "output_graph_file_name = f\"graph_{input_file_name[:-4]}.csv\"\n",
    "output_graph_file_with_path = outputdirectory/output_graph_file_name\n",
    "\n",
    "output_chunks_file_name = f\"chunks_{input_file_name[:-4]}.csv\"\n",
    "output_chunks_file_with_path = outputdirectory/output_chunks_file_name\n",
    "\n",
    "output_context_prox_file_name = f\"graph_contex_prox_{input_file_name[:-4]}.csv\"\n",
    "output_context_prox_file_with_path = outputdirectory/output_context_prox_file_name\n",
    "\n",
    "print(output_graph_file_with_path)\n",
    "print(output_chunks_file_with_path)\n",
    "print(output_context_prox_file_with_path)"
   ]
  },
  {
   "cell_type": "markdown",
   "metadata": {},
   "source": [
    "## Load Documents"
   ]
  },
  {
   "cell_type": "code",
   "execution_count": 14,
   "metadata": {},
   "outputs": [],
   "source": [
    "#loader = TextLoader(\"./HotG_Data/Hanse.txt\")\n",
    "loader = TextLoader(inputdirectory)\n",
    "Document = loader.load()\n",
    "# clean unnecessary line breaks\n",
    "Document[0].page_content = Document[0].page_content.replace(\"\\n\", \" \")"
   ]
  },
  {
   "cell_type": "code",
   "execution_count": 15,
   "metadata": {},
   "outputs": [
    {
     "name": "stdout",
     "output_type": "stream",
     "text": [
      "Number of chunks =  153\n",
      "Umsetzung ......................................................................................16 4.2.1.2 Nutzung ..........................................................................................19 4.2.2 Operation read_Directory_Entry ...............................................................20 4.2.2.1 Umsetzung ......................................................................................20 4.2.2.2 Nutzung ..........................................................................................21 4.2.3 Operation modify_Directory_Entry ...........................................................22 4.2.3.1 Umsetzung ......................................................................................22 4.2.3.2 Nutzung ..........................................................................................22 4.2.4 Operation delete_Directory_Entry ............................................................23 4.2.4.1 Umsetzung\n"
     ]
    }
   ],
   "source": [
    "splitter = RecursiveCharacterTextSplitter(\n",
    "    chunk_size=1000,\n",
    "    chunk_overlap=100,\n",
    "    length_function=len,\n",
    "    is_separator_regex=False,\n",
    ")\n",
    "\n",
    "pages = splitter.split_documents(Document)\n",
    "print(\"Number of chunks = \", len(pages))\n",
    "print(pages[5].page_content)"
   ]
  },
  {
   "cell_type": "markdown",
   "metadata": {},
   "source": [
    "## Create a dataframe of all the chunks"
   ]
  },
  {
   "cell_type": "code",
   "execution_count": 16,
   "metadata": {},
   "outputs": [
    {
     "name": "stdout",
     "output_type": "stream",
     "text": [
      "(153, 3)\n"
     ]
    },
    {
     "data": {
      "text/html": [
       "<div>\n",
       "<style scoped>\n",
       "    .dataframe tbody tr th:only-of-type {\n",
       "        vertical-align: middle;\n",
       "    }\n",
       "\n",
       "    .dataframe tbody tr th {\n",
       "        vertical-align: top;\n",
       "    }\n",
       "\n",
       "    .dataframe thead th {\n",
       "        text-align: right;\n",
       "    }\n",
       "</style>\n",
       "<table border=\"1\" class=\"dataframe\">\n",
       "  <thead>\n",
       "    <tr style=\"text-align: right;\">\n",
       "      <th></th>\n",
       "      <th>text</th>\n",
       "      <th>source</th>\n",
       "      <th>chunk_id</th>\n",
       "    </tr>\n",
       "  </thead>\n",
       "  <tbody>\n",
       "    <tr>\n",
       "      <th>0</th>\n",
       "      <td>Elektronische Gesundheitskarte und Telematikin...</td>\n",
       "      <td>HotG_Data/gemSpec_VZD_V1.14.0.pdf.txt</td>\n",
       "      <td>5aac2d439dcc42a88aad0f6967f26b4a</td>\n",
       "    </tr>\n",
       "    <tr>\n",
       "      <th>1</th>\n",
       "      <td>Einarbeitung lt. Änderungsliste gematik 1.5.0 ...</td>\n",
       "      <td>HotG_Data/gemSpec_VZD_V1.14.0.pdf.txt</td>\n",
       "      <td>8fa81b4752d3402481adc21ebffc6a07</td>\n",
       "    </tr>\n",
       "    <tr>\n",
       "      <th>2</th>\n",
       "      <td>KIM 1.5.1 gemSpec_VZD_V1.docx Spezifikation Se...</td>\n",
       "      <td>HotG_Data/gemSpec_VZD_V1.14.0.pdf.txt</td>\n",
       "      <td>151c9bc0b01142a49d7590a88bc2bb48</td>\n",
       "    </tr>\n",
       "    <tr>\n",
       "      <th>3</th>\n",
       "      <td>Einordnung des Dokumentes .......................</td>\n",
       "      <td>HotG_Data/gemSpec_VZD_V1.14.0.pdf.txt</td>\n",
       "      <td>b0691d9054ad450bb3b94edbb46ffbf1</td>\n",
       "    </tr>\n",
       "    <tr>\n",
       "      <th>4</th>\n",
       "      <td>.................................................</td>\n",
       "      <td>HotG_Data/gemSpec_VZD_V1.14.0.pdf.txt</td>\n",
       "      <td>bfe87fdd6a2245c1abb887228f5e62e5</td>\n",
       "    </tr>\n",
       "  </tbody>\n",
       "</table>\n",
       "</div>"
      ],
      "text/plain": [
       "                                                text  \\\n",
       "0  Elektronische Gesundheitskarte und Telematikin...   \n",
       "1  Einarbeitung lt. Änderungsliste gematik 1.5.0 ...   \n",
       "2  KIM 1.5.1 gemSpec_VZD_V1.docx Spezifikation Se...   \n",
       "3  Einordnung des Dokumentes .......................   \n",
       "4  .................................................   \n",
       "\n",
       "                                  source                          chunk_id  \n",
       "0  HotG_Data/gemSpec_VZD_V1.14.0.pdf.txt  5aac2d439dcc42a88aad0f6967f26b4a  \n",
       "1  HotG_Data/gemSpec_VZD_V1.14.0.pdf.txt  8fa81b4752d3402481adc21ebffc6a07  \n",
       "2  HotG_Data/gemSpec_VZD_V1.14.0.pdf.txt  151c9bc0b01142a49d7590a88bc2bb48  \n",
       "3  HotG_Data/gemSpec_VZD_V1.14.0.pdf.txt  b0691d9054ad450bb3b94edbb46ffbf1  \n",
       "4  HotG_Data/gemSpec_VZD_V1.14.0.pdf.txt  bfe87fdd6a2245c1abb887228f5e62e5  "
      ]
     },
     "execution_count": 16,
     "metadata": {},
     "output_type": "execute_result"
    }
   ],
   "source": [
    "df = documents2Dataframe(pages)\n",
    "print(df.shape)\n",
    "df.head()"
   ]
  },
  {
   "cell_type": "markdown",
   "metadata": {},
   "source": [
    "## Extract Concepts"
   ]
  },
  {
   "cell_type": "code",
   "execution_count": 52,
   "metadata": {
    "editable": true,
    "slideshow": {
     "slide_type": ""
    },
    "tags": []
   },
   "outputs": [
    {
     "name": "stdout",
     "output_type": "stream",
     "text": [
      "USER_PROMPT promt\n",
      "\n",
      "context: ```Elektronische Gesundheitskarte und Telematikinfrastruktur Spezifikation Verzeichnisdienst Version: 1.14.0 Revision: 434138 Stand: 31.01.2022 Status: freigegeben Klassifizierung: öffentlich Referenzierung: gemSpec_VZD gemSpec_VZD_V1.docx Spezifikation Seite 1 von 72 Version: 1.14.0 © gematik – öffentlich Stand: 31.01.2022Spezifikation Verzeichnisdienst Dokumentinformationen Änderungen zur Vorversion Anpassungen des vorliegenden Dokumentes im Vergleich zur Vorversion können Sie der nachfolgenden Tabelle entnehmen. Bitte beachten Sie die Hinweise zur Einführung der Benennungen 'WANDA Basic' und 'WANDA Smart' (siehe Dokumentenhistorie). Dokumentenhistorie Version Stand Kap./ Grund der Änderung, besondere Hinweise Bearbeitung Seite 1.2.0 17.07.15 Nutzer der Schnittstelle gematik I_Directory_Maintenance geändert 1.3.0 24.08.16 Anpassungen zum Online-Produktivbetrieb gematik (Stufe 1) 1.4.0 28.10.16 Einarbeitung lt. Änderungsliste gematik 1.5.0 19.04.17 Anpassung nach Änderungsliste gematik``` \n",
      "\n",
      " output: \n",
      "Prompt\n",
      "\n",
      "input_variables=['\\n       \"chunk_id\"', '...', 'input'] messages=[SystemMessagePromptTemplate(prompt=PromptTemplate(input_variables=['\\n       \"chunk_id\"', '...'], template='You are a network graph maker who extracts terms and their relations from a given context. You are provided with a context chunk (delimited by ```) Your task is to extract the ontology of terms mentioned in the given context. These terms should represent the key concepts as per the context. \\nThought 1: While traversing through each sentence, Think about the key terms mentioned in it.\\n\\tTerms may include requirement (AFO), rfc, organization, date, duration, \\n\\tcondition, concept, object, entity  etc.\\n\\tTerms should be as atomistic as possible\\n\\nThought 2: Think about how these terms can have one on one relation with other terms.\\n\\tTerms that are mentioned in the same sentence or the same paragraph are typically related to each other.\\n\\tTerms can be related to many other terms\\n\\nThought 3: Find out the relation between each such related pair of terms. \\n\\nFormat your output as a list of json. Each element of the list contains a pair of termsand the relation between them like the follwing. NEVER change the value of the chunk_ID as defined in this prompt: \\n[\\n   {\\n       \"chunk_id\": \"5aac2d439dcc42a88aad0f6967f26b4a\",\\n       \"node_1\": \"A concept from extracted ontology\",\\n       \"node_2\": \"A related concept from extracted ontology\",\\n       \"edge\": \"relationship between the two concepts, node_1 and node_2 in one or two sentences\"\\n   }, {...}\\n]')), HumanMessagePromptTemplate(prompt=PromptTemplate(input_variables=['input'], template='context: ```{input}``` \\n\\n output: '))]\n",
      "cbain\n",
      "\n",
      "first=ChatPromptTemplate(input_variables=['\\n       \"chunk_id\"', '...', 'input'], messages=[SystemMessagePromptTemplate(prompt=PromptTemplate(input_variables=['\\n       \"chunk_id\"', '...'], template='You are a network graph maker who extracts terms and their relations from a given context. You are provided with a context chunk (delimited by ```) Your task is to extract the ontology of terms mentioned in the given context. These terms should represent the key concepts as per the context. \\nThought 1: While traversing through each sentence, Think about the key terms mentioned in it.\\n\\tTerms may include requirement (AFO), rfc, organization, date, duration, \\n\\tcondition, concept, object, entity  etc.\\n\\tTerms should be as atomistic as possible\\n\\nThought 2: Think about how these terms can have one on one relation with other terms.\\n\\tTerms that are mentioned in the same sentence or the same paragraph are typically related to each other.\\n\\tTerms can be related to many other terms\\n\\nThought 3: Find out the relation between each such related pair of terms. \\n\\nFormat your output as a list of json. Each element of the list contains a pair of termsand the relation between them like the follwing. NEVER change the value of the chunk_ID as defined in this prompt: \\n[\\n   {\\n       \"chunk_id\": \"5aac2d439dcc42a88aad0f6967f26b4a\",\\n       \"node_1\": \"A concept from extracted ontology\",\\n       \"node_2\": \"A related concept from extracted ontology\",\\n       \"edge\": \"relationship between the two concepts, node_1 and node_2 in one or two sentences\"\\n   }, {...}\\n]')), HumanMessagePromptTemplate(prompt=PromptTemplate(input_variables=['input'], template='context: ```{input}``` \\n\\n output: '))]) last=ChatGroq(client=<groq.resources.chat.completions.Completions object at 0x7f8f367c5910>, async_client=<groq.resources.chat.completions.AsyncCompletions object at 0x7f8f36649b10>, temperature=1e-08, groq_api_key=SecretStr('**********'))\n"
     ]
    },
    {
     "ename": "KeyError",
     "evalue": "'Input to ChatPromptTemplate is missing variables {\\'...\\', \\'\\\\n       \"chunk_id\"\\'}.  Expected: [\\'\\\\n       \"chunk_id\"\\', \\'...\\', \\'input\\'] Received: [\\'input\\']'",
     "output_type": "error",
     "traceback": [
      "\u001b[0;31m---------------------------------------------------------------------------\u001b[0m",
      "\u001b[0;31mKeyError\u001b[0m                                  Traceback (most recent call last)",
      "Cell \u001b[0;32mIn[52], line 7\u001b[0m\n\u001b[1;32m      4\u001b[0m \u001b[38;5;66;03m##################\u001b[39;00m\n\u001b[1;32m      5\u001b[0m \u001b[38;5;28;01mif\u001b[39;00m regenerate:\n\u001b[1;32m      6\u001b[0m \u001b[38;5;66;03m#########################################################    \u001b[39;00m\n\u001b[0;32m----> 7\u001b[0m     concepts_list \u001b[38;5;241m=\u001b[39m \u001b[43mdf2Graph\u001b[49m\u001b[43m(\u001b[49m\u001b[43mdf\u001b[49m\u001b[43m,\u001b[49m\u001b[43m \u001b[49m\u001b[43mmodel\u001b[49m\u001b[38;5;241;43m=\u001b[39;49m\u001b[38;5;124;43m'\u001b[39;49m\u001b[38;5;124;43mmistral:latest\u001b[39;49m\u001b[38;5;124;43m'\u001b[39;49m\u001b[43m)\u001b[49m\n\u001b[1;32m      8\u001b[0m \u001b[38;5;66;03m#########################################################\u001b[39;00m\n\u001b[1;32m      9\u001b[0m     dfg1 \u001b[38;5;241m=\u001b[39m graph2Df(concepts_list)\n",
      "Cell \u001b[0;32mIn[9], line 3\u001b[0m, in \u001b[0;36mdf2Graph\u001b[0;34m(dataframe, model)\u001b[0m\n\u001b[1;32m      1\u001b[0m \u001b[38;5;28;01mdef\u001b[39;00m \u001b[38;5;21mdf2Graph\u001b[39m(dataframe: pd\u001b[38;5;241m.\u001b[39mDataFrame, model\u001b[38;5;241m=\u001b[39m\u001b[38;5;28;01mNone\u001b[39;00m) \u001b[38;5;241m-\u001b[39m\u001b[38;5;241m>\u001b[39m \u001b[38;5;28mlist\u001b[39m:\n\u001b[1;32m      2\u001b[0m     \u001b[38;5;66;03m# dataframe.reset_index(inplace=True)\u001b[39;00m\n\u001b[0;32m----> 3\u001b[0m     results \u001b[38;5;241m=\u001b[39m \u001b[43mdataframe\u001b[49m\u001b[38;5;241;43m.\u001b[39;49m\u001b[43mapply\u001b[49m\u001b[43m(\u001b[49m\n\u001b[1;32m      4\u001b[0m \u001b[43m        \u001b[49m\u001b[38;5;28;43;01mlambda\u001b[39;49;00m\u001b[43m \u001b[49m\u001b[43mrow\u001b[49m\u001b[43m:\u001b[49m\u001b[43m \u001b[49m\u001b[43mgraphPrompt\u001b[49m\u001b[43m(\u001b[49m\u001b[43mrow\u001b[49m\u001b[38;5;241;43m.\u001b[39;49m\u001b[43mtext\u001b[49m\u001b[43m,\u001b[49m\u001b[43m \u001b[49m\u001b[43m{\u001b[49m\u001b[38;5;124;43m\"\u001b[39;49m\u001b[38;5;124;43mchunk_id\u001b[39;49m\u001b[38;5;124;43m\"\u001b[39;49m\u001b[43m:\u001b[49m\u001b[43m \u001b[49m\u001b[43mrow\u001b[49m\u001b[38;5;241;43m.\u001b[39;49m\u001b[43mchunk_id\u001b[49m\u001b[43m}\u001b[49m\u001b[43m,\u001b[49m\u001b[43m \u001b[49m\u001b[43mmodel\u001b[49m\u001b[43m)\u001b[49m\u001b[43m,\u001b[49m\u001b[43m \u001b[49m\u001b[43maxis\u001b[49m\u001b[38;5;241;43m=\u001b[39;49m\u001b[38;5;241;43m1\u001b[39;49m\n\u001b[1;32m      5\u001b[0m \u001b[43m    \u001b[49m\u001b[43m)\u001b[49m\n\u001b[1;32m      6\u001b[0m     \u001b[38;5;66;03m# invalid json results in NaN\u001b[39;00m\n\u001b[1;32m      7\u001b[0m     results \u001b[38;5;241m=\u001b[39m results\u001b[38;5;241m.\u001b[39mdropna()\n",
      "File \u001b[0;32m~/LocalKnowledgeGraphExtraction/.venv/lib/python3.11/site-packages/pandas/core/frame.py:10361\u001b[0m, in \u001b[0;36mDataFrame.apply\u001b[0;34m(self, func, axis, raw, result_type, args, by_row, engine, engine_kwargs, **kwargs)\u001b[0m\n\u001b[1;32m  10347\u001b[0m \u001b[38;5;28;01mfrom\u001b[39;00m \u001b[38;5;21;01mpandas\u001b[39;00m\u001b[38;5;21;01m.\u001b[39;00m\u001b[38;5;21;01mcore\u001b[39;00m\u001b[38;5;21;01m.\u001b[39;00m\u001b[38;5;21;01mapply\u001b[39;00m \u001b[38;5;28;01mimport\u001b[39;00m frame_apply\n\u001b[1;32m  10349\u001b[0m op \u001b[38;5;241m=\u001b[39m frame_apply(\n\u001b[1;32m  10350\u001b[0m     \u001b[38;5;28mself\u001b[39m,\n\u001b[1;32m  10351\u001b[0m     func\u001b[38;5;241m=\u001b[39mfunc,\n\u001b[0;32m   (...)\u001b[0m\n\u001b[1;32m  10359\u001b[0m     kwargs\u001b[38;5;241m=\u001b[39mkwargs,\n\u001b[1;32m  10360\u001b[0m )\n\u001b[0;32m> 10361\u001b[0m \u001b[38;5;28;01mreturn\u001b[39;00m \u001b[43mop\u001b[49m\u001b[38;5;241;43m.\u001b[39;49m\u001b[43mapply\u001b[49m\u001b[43m(\u001b[49m\u001b[43m)\u001b[49m\u001b[38;5;241m.\u001b[39m__finalize__(\u001b[38;5;28mself\u001b[39m, method\u001b[38;5;241m=\u001b[39m\u001b[38;5;124m\"\u001b[39m\u001b[38;5;124mapply\u001b[39m\u001b[38;5;124m\"\u001b[39m)\n",
      "File \u001b[0;32m~/LocalKnowledgeGraphExtraction/.venv/lib/python3.11/site-packages/pandas/core/apply.py:916\u001b[0m, in \u001b[0;36mFrameApply.apply\u001b[0;34m(self)\u001b[0m\n\u001b[1;32m    913\u001b[0m \u001b[38;5;28;01melif\u001b[39;00m \u001b[38;5;28mself\u001b[39m\u001b[38;5;241m.\u001b[39mraw:\n\u001b[1;32m    914\u001b[0m     \u001b[38;5;28;01mreturn\u001b[39;00m \u001b[38;5;28mself\u001b[39m\u001b[38;5;241m.\u001b[39mapply_raw(engine\u001b[38;5;241m=\u001b[39m\u001b[38;5;28mself\u001b[39m\u001b[38;5;241m.\u001b[39mengine, engine_kwargs\u001b[38;5;241m=\u001b[39m\u001b[38;5;28mself\u001b[39m\u001b[38;5;241m.\u001b[39mengine_kwargs)\n\u001b[0;32m--> 916\u001b[0m \u001b[38;5;28;01mreturn\u001b[39;00m \u001b[38;5;28;43mself\u001b[39;49m\u001b[38;5;241;43m.\u001b[39;49m\u001b[43mapply_standard\u001b[49m\u001b[43m(\u001b[49m\u001b[43m)\u001b[49m\n",
      "File \u001b[0;32m~/LocalKnowledgeGraphExtraction/.venv/lib/python3.11/site-packages/pandas/core/apply.py:1063\u001b[0m, in \u001b[0;36mFrameApply.apply_standard\u001b[0;34m(self)\u001b[0m\n\u001b[1;32m   1061\u001b[0m \u001b[38;5;28;01mdef\u001b[39;00m \u001b[38;5;21mapply_standard\u001b[39m(\u001b[38;5;28mself\u001b[39m):\n\u001b[1;32m   1062\u001b[0m     \u001b[38;5;28;01mif\u001b[39;00m \u001b[38;5;28mself\u001b[39m\u001b[38;5;241m.\u001b[39mengine \u001b[38;5;241m==\u001b[39m \u001b[38;5;124m\"\u001b[39m\u001b[38;5;124mpython\u001b[39m\u001b[38;5;124m\"\u001b[39m:\n\u001b[0;32m-> 1063\u001b[0m         results, res_index \u001b[38;5;241m=\u001b[39m \u001b[38;5;28;43mself\u001b[39;49m\u001b[38;5;241;43m.\u001b[39;49m\u001b[43mapply_series_generator\u001b[49m\u001b[43m(\u001b[49m\u001b[43m)\u001b[49m\n\u001b[1;32m   1064\u001b[0m     \u001b[38;5;28;01melse\u001b[39;00m:\n\u001b[1;32m   1065\u001b[0m         results, res_index \u001b[38;5;241m=\u001b[39m \u001b[38;5;28mself\u001b[39m\u001b[38;5;241m.\u001b[39mapply_series_numba()\n",
      "File \u001b[0;32m~/LocalKnowledgeGraphExtraction/.venv/lib/python3.11/site-packages/pandas/core/apply.py:1081\u001b[0m, in \u001b[0;36mFrameApply.apply_series_generator\u001b[0;34m(self)\u001b[0m\n\u001b[1;32m   1078\u001b[0m \u001b[38;5;28;01mwith\u001b[39;00m option_context(\u001b[38;5;124m\"\u001b[39m\u001b[38;5;124mmode.chained_assignment\u001b[39m\u001b[38;5;124m\"\u001b[39m, \u001b[38;5;28;01mNone\u001b[39;00m):\n\u001b[1;32m   1079\u001b[0m     \u001b[38;5;28;01mfor\u001b[39;00m i, v \u001b[38;5;129;01min\u001b[39;00m \u001b[38;5;28menumerate\u001b[39m(series_gen):\n\u001b[1;32m   1080\u001b[0m         \u001b[38;5;66;03m# ignore SettingWithCopy here in case the user mutates\u001b[39;00m\n\u001b[0;32m-> 1081\u001b[0m         results[i] \u001b[38;5;241m=\u001b[39m \u001b[38;5;28;43mself\u001b[39;49m\u001b[38;5;241;43m.\u001b[39;49m\u001b[43mfunc\u001b[49m\u001b[43m(\u001b[49m\u001b[43mv\u001b[49m\u001b[43m,\u001b[49m\u001b[43m \u001b[49m\u001b[38;5;241;43m*\u001b[39;49m\u001b[38;5;28;43mself\u001b[39;49m\u001b[38;5;241;43m.\u001b[39;49m\u001b[43margs\u001b[49m\u001b[43m,\u001b[49m\u001b[43m \u001b[49m\u001b[38;5;241;43m*\u001b[39;49m\u001b[38;5;241;43m*\u001b[39;49m\u001b[38;5;28;43mself\u001b[39;49m\u001b[38;5;241;43m.\u001b[39;49m\u001b[43mkwargs\u001b[49m\u001b[43m)\u001b[49m\n\u001b[1;32m   1082\u001b[0m         \u001b[38;5;28;01mif\u001b[39;00m \u001b[38;5;28misinstance\u001b[39m(results[i], ABCSeries):\n\u001b[1;32m   1083\u001b[0m             \u001b[38;5;66;03m# If we have a view on v, we need to make a copy because\u001b[39;00m\n\u001b[1;32m   1084\u001b[0m             \u001b[38;5;66;03m#  series_generator will swap out the underlying data\u001b[39;00m\n\u001b[1;32m   1085\u001b[0m             results[i] \u001b[38;5;241m=\u001b[39m results[i]\u001b[38;5;241m.\u001b[39mcopy(deep\u001b[38;5;241m=\u001b[39m\u001b[38;5;28;01mFalse\u001b[39;00m)\n",
      "Cell \u001b[0;32mIn[9], line 4\u001b[0m, in \u001b[0;36mdf2Graph.<locals>.<lambda>\u001b[0;34m(row)\u001b[0m\n\u001b[1;32m      1\u001b[0m \u001b[38;5;28;01mdef\u001b[39;00m \u001b[38;5;21mdf2Graph\u001b[39m(dataframe: pd\u001b[38;5;241m.\u001b[39mDataFrame, model\u001b[38;5;241m=\u001b[39m\u001b[38;5;28;01mNone\u001b[39;00m) \u001b[38;5;241m-\u001b[39m\u001b[38;5;241m>\u001b[39m \u001b[38;5;28mlist\u001b[39m:\n\u001b[1;32m      2\u001b[0m     \u001b[38;5;66;03m# dataframe.reset_index(inplace=True)\u001b[39;00m\n\u001b[1;32m      3\u001b[0m     results \u001b[38;5;241m=\u001b[39m dataframe\u001b[38;5;241m.\u001b[39mapply(\n\u001b[0;32m----> 4\u001b[0m         \u001b[38;5;28;01mlambda\u001b[39;00m row: \u001b[43mgraphPrompt\u001b[49m\u001b[43m(\u001b[49m\u001b[43mrow\u001b[49m\u001b[38;5;241;43m.\u001b[39;49m\u001b[43mtext\u001b[49m\u001b[43m,\u001b[49m\u001b[43m \u001b[49m\u001b[43m{\u001b[49m\u001b[38;5;124;43m\"\u001b[39;49m\u001b[38;5;124;43mchunk_id\u001b[39;49m\u001b[38;5;124;43m\"\u001b[39;49m\u001b[43m:\u001b[49m\u001b[43m \u001b[49m\u001b[43mrow\u001b[49m\u001b[38;5;241;43m.\u001b[39;49m\u001b[43mchunk_id\u001b[49m\u001b[43m}\u001b[49m\u001b[43m,\u001b[49m\u001b[43m \u001b[49m\u001b[43mmodel\u001b[49m\u001b[43m)\u001b[49m, axis\u001b[38;5;241m=\u001b[39m\u001b[38;5;241m1\u001b[39m\n\u001b[1;32m      5\u001b[0m     )\n\u001b[1;32m      6\u001b[0m     \u001b[38;5;66;03m# invalid json results in NaN\u001b[39;00m\n\u001b[1;32m      7\u001b[0m     results \u001b[38;5;241m=\u001b[39m results\u001b[38;5;241m.\u001b[39mdropna()\n",
      "Cell \u001b[0;32mIn[51], line 49\u001b[0m, in \u001b[0;36mgraphPrompt\u001b[0;34m(input, metadata, model)\u001b[0m\n\u001b[1;32m     47\u001b[0m \u001b[38;5;28mprint\u001b[39m(\u001b[38;5;124m\"\u001b[39m\u001b[38;5;124mcbain\u001b[39m\u001b[38;5;130;01m\\n\u001b[39;00m\u001b[38;5;124m\"\u001b[39m)\n\u001b[1;32m     48\u001b[0m \u001b[38;5;28mprint\u001b[39m(chain)\n\u001b[0;32m---> 49\u001b[0m aux1\u001b[38;5;241m=\u001b[39m\u001b[43mchain\u001b[49m\u001b[38;5;241;43m.\u001b[39;49m\u001b[43minvoke\u001b[49m\u001b[43m(\u001b[49m\u001b[43m{\u001b[49m\u001b[38;5;124;43m\"\u001b[39;49m\u001b[38;5;124;43minput\u001b[39;49m\u001b[38;5;124;43m\"\u001b[39;49m\u001b[43m:\u001b[49m\u001b[38;5;28;43minput\u001b[39;49m\u001b[43m}\u001b[49m\u001b[43m)\u001b[49m\n\u001b[1;32m     50\u001b[0m \u001b[38;5;28mprint\u001b[39m(\u001b[38;5;124m\"\u001b[39m\u001b[38;5;124maux\u001b[39m\u001b[38;5;130;01m\\n\u001b[39;00m\u001b[38;5;124m\"\u001b[39m)\n\u001b[1;32m     51\u001b[0m \u001b[38;5;28mprint\u001b[39m(aux1)\n",
      "File \u001b[0;32m~/LocalKnowledgeGraphExtraction/.venv/lib/python3.11/site-packages/langchain_core/runnables/base.py:2499\u001b[0m, in \u001b[0;36mRunnableSequence.invoke\u001b[0;34m(self, input, config)\u001b[0m\n\u001b[1;32m   2497\u001b[0m \u001b[38;5;28;01mtry\u001b[39;00m:\n\u001b[1;32m   2498\u001b[0m     \u001b[38;5;28;01mfor\u001b[39;00m i, step \u001b[38;5;129;01min\u001b[39;00m \u001b[38;5;28menumerate\u001b[39m(\u001b[38;5;28mself\u001b[39m\u001b[38;5;241m.\u001b[39msteps):\n\u001b[0;32m-> 2499\u001b[0m         \u001b[38;5;28minput\u001b[39m \u001b[38;5;241m=\u001b[39m \u001b[43mstep\u001b[49m\u001b[38;5;241;43m.\u001b[39;49m\u001b[43minvoke\u001b[49m\u001b[43m(\u001b[49m\n\u001b[1;32m   2500\u001b[0m \u001b[43m            \u001b[49m\u001b[38;5;28;43minput\u001b[39;49m\u001b[43m,\u001b[49m\n\u001b[1;32m   2501\u001b[0m \u001b[43m            \u001b[49m\u001b[38;5;66;43;03m# mark each step as a child run\u001b[39;49;00m\n\u001b[1;32m   2502\u001b[0m \u001b[43m            \u001b[49m\u001b[43mpatch_config\u001b[49m\u001b[43m(\u001b[49m\n\u001b[1;32m   2503\u001b[0m \u001b[43m                \u001b[49m\u001b[43mconfig\u001b[49m\u001b[43m,\u001b[49m\u001b[43m \u001b[49m\u001b[43mcallbacks\u001b[49m\u001b[38;5;241;43m=\u001b[39;49m\u001b[43mrun_manager\u001b[49m\u001b[38;5;241;43m.\u001b[39;49m\u001b[43mget_child\u001b[49m\u001b[43m(\u001b[49m\u001b[38;5;124;43mf\u001b[39;49m\u001b[38;5;124;43m\"\u001b[39;49m\u001b[38;5;124;43mseq:step:\u001b[39;49m\u001b[38;5;132;43;01m{\u001b[39;49;00m\u001b[43mi\u001b[49m\u001b[38;5;241;43m+\u001b[39;49m\u001b[38;5;241;43m1\u001b[39;49m\u001b[38;5;132;43;01m}\u001b[39;49;00m\u001b[38;5;124;43m\"\u001b[39;49m\u001b[43m)\u001b[49m\n\u001b[1;32m   2504\u001b[0m \u001b[43m            \u001b[49m\u001b[43m)\u001b[49m\u001b[43m,\u001b[49m\n\u001b[1;32m   2505\u001b[0m \u001b[43m        \u001b[49m\u001b[43m)\u001b[49m\n\u001b[1;32m   2506\u001b[0m \u001b[38;5;66;03m# finish the root run\u001b[39;00m\n\u001b[1;32m   2507\u001b[0m \u001b[38;5;28;01mexcept\u001b[39;00m \u001b[38;5;167;01mBaseException\u001b[39;00m \u001b[38;5;28;01mas\u001b[39;00m e:\n",
      "File \u001b[0;32m~/LocalKnowledgeGraphExtraction/.venv/lib/python3.11/site-packages/langchain_core/prompts/base.py:118\u001b[0m, in \u001b[0;36mBasePromptTemplate.invoke\u001b[0;34m(self, input, config)\u001b[0m\n\u001b[1;32m    116\u001b[0m \u001b[38;5;28;01mif\u001b[39;00m \u001b[38;5;28mself\u001b[39m\u001b[38;5;241m.\u001b[39mtags:\n\u001b[1;32m    117\u001b[0m     config[\u001b[38;5;124m\"\u001b[39m\u001b[38;5;124mtags\u001b[39m\u001b[38;5;124m\"\u001b[39m] \u001b[38;5;241m=\u001b[39m config[\u001b[38;5;124m\"\u001b[39m\u001b[38;5;124mtags\u001b[39m\u001b[38;5;124m\"\u001b[39m] \u001b[38;5;241m+\u001b[39m \u001b[38;5;28mself\u001b[39m\u001b[38;5;241m.\u001b[39mtags\n\u001b[0;32m--> 118\u001b[0m \u001b[38;5;28;01mreturn\u001b[39;00m \u001b[38;5;28;43mself\u001b[39;49m\u001b[38;5;241;43m.\u001b[39;49m\u001b[43m_call_with_config\u001b[49m\u001b[43m(\u001b[49m\n\u001b[1;32m    119\u001b[0m \u001b[43m    \u001b[49m\u001b[38;5;28;43mself\u001b[39;49m\u001b[38;5;241;43m.\u001b[39;49m\u001b[43m_format_prompt_with_error_handling\u001b[49m\u001b[43m,\u001b[49m\n\u001b[1;32m    120\u001b[0m \u001b[43m    \u001b[49m\u001b[38;5;28;43minput\u001b[39;49m\u001b[43m,\u001b[49m\n\u001b[1;32m    121\u001b[0m \u001b[43m    \u001b[49m\u001b[43mconfig\u001b[49m\u001b[43m,\u001b[49m\n\u001b[1;32m    122\u001b[0m \u001b[43m    \u001b[49m\u001b[43mrun_type\u001b[49m\u001b[38;5;241;43m=\u001b[39;49m\u001b[38;5;124;43m\"\u001b[39;49m\u001b[38;5;124;43mprompt\u001b[39;49m\u001b[38;5;124;43m\"\u001b[39;49m\u001b[43m,\u001b[49m\n\u001b[1;32m    123\u001b[0m \u001b[43m\u001b[49m\u001b[43m)\u001b[49m\n",
      "File \u001b[0;32m~/LocalKnowledgeGraphExtraction/.venv/lib/python3.11/site-packages/langchain_core/runnables/base.py:1625\u001b[0m, in \u001b[0;36mRunnable._call_with_config\u001b[0;34m(self, func, input, config, run_type, **kwargs)\u001b[0m\n\u001b[1;32m   1621\u001b[0m     context \u001b[38;5;241m=\u001b[39m copy_context()\n\u001b[1;32m   1622\u001b[0m     context\u001b[38;5;241m.\u001b[39mrun(var_child_runnable_config\u001b[38;5;241m.\u001b[39mset, child_config)\n\u001b[1;32m   1623\u001b[0m     output \u001b[38;5;241m=\u001b[39m cast(\n\u001b[1;32m   1624\u001b[0m         Output,\n\u001b[0;32m-> 1625\u001b[0m         \u001b[43mcontext\u001b[49m\u001b[38;5;241;43m.\u001b[39;49m\u001b[43mrun\u001b[49m\u001b[43m(\u001b[49m\n\u001b[1;32m   1626\u001b[0m \u001b[43m            \u001b[49m\u001b[43mcall_func_with_variable_args\u001b[49m\u001b[43m,\u001b[49m\u001b[43m  \u001b[49m\u001b[38;5;66;43;03m# type: ignore[arg-type]\u001b[39;49;00m\n\u001b[1;32m   1627\u001b[0m \u001b[43m            \u001b[49m\u001b[43mfunc\u001b[49m\u001b[43m,\u001b[49m\u001b[43m  \u001b[49m\u001b[38;5;66;43;03m# type: ignore[arg-type]\u001b[39;49;00m\n\u001b[1;32m   1628\u001b[0m \u001b[43m            \u001b[49m\u001b[38;5;28;43minput\u001b[39;49m\u001b[43m,\u001b[49m\u001b[43m  \u001b[49m\u001b[38;5;66;43;03m# type: ignore[arg-type]\u001b[39;49;00m\n\u001b[1;32m   1629\u001b[0m \u001b[43m            \u001b[49m\u001b[43mconfig\u001b[49m\u001b[43m,\u001b[49m\n\u001b[1;32m   1630\u001b[0m \u001b[43m            \u001b[49m\u001b[43mrun_manager\u001b[49m\u001b[43m,\u001b[49m\n\u001b[1;32m   1631\u001b[0m \u001b[43m            \u001b[49m\u001b[38;5;241;43m*\u001b[39;49m\u001b[38;5;241;43m*\u001b[39;49m\u001b[43mkwargs\u001b[49m\u001b[43m,\u001b[49m\n\u001b[1;32m   1632\u001b[0m \u001b[43m        \u001b[49m\u001b[43m)\u001b[49m,\n\u001b[1;32m   1633\u001b[0m     )\n\u001b[1;32m   1634\u001b[0m \u001b[38;5;28;01mexcept\u001b[39;00m \u001b[38;5;167;01mBaseException\u001b[39;00m \u001b[38;5;28;01mas\u001b[39;00m e:\n\u001b[1;32m   1635\u001b[0m     run_manager\u001b[38;5;241m.\u001b[39mon_chain_error(e)\n",
      "File \u001b[0;32m~/LocalKnowledgeGraphExtraction/.venv/lib/python3.11/site-packages/langchain_core/runnables/config.py:347\u001b[0m, in \u001b[0;36mcall_func_with_variable_args\u001b[0;34m(func, input, config, run_manager, **kwargs)\u001b[0m\n\u001b[1;32m    345\u001b[0m \u001b[38;5;28;01mif\u001b[39;00m run_manager \u001b[38;5;129;01mis\u001b[39;00m \u001b[38;5;129;01mnot\u001b[39;00m \u001b[38;5;28;01mNone\u001b[39;00m \u001b[38;5;129;01mand\u001b[39;00m accepts_run_manager(func):\n\u001b[1;32m    346\u001b[0m     kwargs[\u001b[38;5;124m\"\u001b[39m\u001b[38;5;124mrun_manager\u001b[39m\u001b[38;5;124m\"\u001b[39m] \u001b[38;5;241m=\u001b[39m run_manager\n\u001b[0;32m--> 347\u001b[0m \u001b[38;5;28;01mreturn\u001b[39;00m \u001b[43mfunc\u001b[49m\u001b[43m(\u001b[49m\u001b[38;5;28;43minput\u001b[39;49m\u001b[43m,\u001b[49m\u001b[43m \u001b[49m\u001b[38;5;241;43m*\u001b[39;49m\u001b[38;5;241;43m*\u001b[39;49m\u001b[43mkwargs\u001b[49m\u001b[43m)\u001b[49m\n",
      "File \u001b[0;32m~/LocalKnowledgeGraphExtraction/.venv/lib/python3.11/site-packages/langchain_core/prompts/base.py:103\u001b[0m, in \u001b[0;36mBasePromptTemplate._format_prompt_with_error_handling\u001b[0;34m(self, inner_input)\u001b[0m\n\u001b[1;32m    101\u001b[0m missing \u001b[38;5;241m=\u001b[39m \u001b[38;5;28mset\u001b[39m(\u001b[38;5;28mself\u001b[39m\u001b[38;5;241m.\u001b[39minput_variables)\u001b[38;5;241m.\u001b[39mdifference(inner_input)\n\u001b[1;32m    102\u001b[0m \u001b[38;5;28;01mif\u001b[39;00m missing:\n\u001b[0;32m--> 103\u001b[0m     \u001b[38;5;28;01mraise\u001b[39;00m \u001b[38;5;167;01mKeyError\u001b[39;00m(\n\u001b[1;32m    104\u001b[0m         \u001b[38;5;124mf\u001b[39m\u001b[38;5;124m\"\u001b[39m\u001b[38;5;124mInput to \u001b[39m\u001b[38;5;132;01m{\u001b[39;00m\u001b[38;5;28mself\u001b[39m\u001b[38;5;241m.\u001b[39m\u001b[38;5;18m__class__\u001b[39m\u001b[38;5;241m.\u001b[39m\u001b[38;5;18m__name__\u001b[39m\u001b[38;5;132;01m}\u001b[39;00m\u001b[38;5;124m is missing variables \u001b[39m\u001b[38;5;132;01m{\u001b[39;00mmissing\u001b[38;5;132;01m}\u001b[39;00m\u001b[38;5;124m. \u001b[39m\u001b[38;5;124m\"\u001b[39m\n\u001b[1;32m    105\u001b[0m         \u001b[38;5;124mf\u001b[39m\u001b[38;5;124m\"\u001b[39m\u001b[38;5;124m Expected: \u001b[39m\u001b[38;5;132;01m{\u001b[39;00m\u001b[38;5;28mself\u001b[39m\u001b[38;5;241m.\u001b[39minput_variables\u001b[38;5;132;01m}\u001b[39;00m\u001b[38;5;124m\"\u001b[39m\n\u001b[1;32m    106\u001b[0m         \u001b[38;5;124mf\u001b[39m\u001b[38;5;124m\"\u001b[39m\u001b[38;5;124m Received: \u001b[39m\u001b[38;5;132;01m{\u001b[39;00m\u001b[38;5;28mlist\u001b[39m(inner_input\u001b[38;5;241m.\u001b[39mkeys())\u001b[38;5;132;01m}\u001b[39;00m\u001b[38;5;124m\"\u001b[39m\n\u001b[1;32m    107\u001b[0m     )\n\u001b[1;32m    108\u001b[0m \u001b[38;5;28;01mreturn\u001b[39;00m \u001b[38;5;28mself\u001b[39m\u001b[38;5;241m.\u001b[39mformat_prompt(\u001b[38;5;241m*\u001b[39m\u001b[38;5;241m*\u001b[39minner_input)\n",
      "\u001b[0;31mKeyError\u001b[0m: 'Input to ChatPromptTemplate is missing variables {\\'...\\', \\'\\\\n       \"chunk_id\"\\'}.  Expected: [\\'\\\\n       \"chunk_id\"\\', \\'...\\', \\'input\\'] Received: [\\'input\\']'"
     ]
    }
   ],
   "source": [
    "## To regenerate the graph with LLM, set this to True\n",
    "##################\n",
    "regenerate = True  # toggle to True if the time-consuming (re-)generation of the knowlege extraction is required\n",
    "##################\n",
    "if regenerate:\n",
    "#########################################################    \n",
    "    concepts_list = df2Graph(df, model='mistral:latest')\n",
    "#########################################################\n",
    "    dfg1 = graph2Df(concepts_list)\n",
    "    \n",
    "    if not os.path.exists(outputdirectory):\n",
    "        os.makedirs(outputdirectory)\n",
    "    \n",
    "    dfg1.to_csv(output_graph_file_with_path, sep=\";\", index=False)\n",
    "    df.to_csv(output_chunks_file_with_path, sep=\";\", index=False)\n",
    "else:\n",
    "    dfg1 = pd.read_csv(output_graph_file_with_path, sep=\";\")\n",
    "\n",
    "dfg1.replace(\"\", np.nan, inplace=True)\n",
    "dfg1.dropna(subset=[\"node_1\", \"node_2\", 'edge'], inplace=True)\n",
    "dfg1['count'] = 4 \n",
    "## Increasing the weight of the relation to 4. \n",
    "## We will assign the weight of 1 when later the contextual proximity will be calculated.  \n",
    "print(dfg1.shape)\n",
    "dfg1.head()"
   ]
  },
  {
   "cell_type": "markdown",
   "metadata": {},
   "source": [
    "## Calculating contextual proximity"
   ]
  },
  {
   "cell_type": "code",
   "execution_count": null,
   "metadata": {},
   "outputs": [
    {
     "ename": "NameError",
     "evalue": "name 'contextual_proximity' is not defined",
     "output_type": "error",
     "traceback": [
      "\u001b[0;31m---------------------------------------------------------------------------\u001b[0m",
      "\u001b[0;31mNameError\u001b[0m                                 Traceback (most recent call last)",
      "Cell \u001b[0;32mIn[1], line 1\u001b[0m\n\u001b[0;32m----> 1\u001b[0m dfg2 \u001b[38;5;241m=\u001b[39m \u001b[43mcontextual_proximity\u001b[49m(dfg1)\n\u001b[1;32m      2\u001b[0m dfg2\u001b[38;5;241m.\u001b[39mto_csv(output_context_prox_file_with_path, sep\u001b[38;5;241m=\u001b[39m\u001b[38;5;124m\"\u001b[39m\u001b[38;5;124m;\u001b[39m\u001b[38;5;124m\"\u001b[39m, index\u001b[38;5;241m=\u001b[39m\u001b[38;5;28;01mFalse\u001b[39;00m)\n\u001b[1;32m      3\u001b[0m dfg2\u001b[38;5;241m.\u001b[39mtail()\n",
      "\u001b[0;31mNameError\u001b[0m: name 'contextual_proximity' is not defined"
     ]
    }
   ],
   "source": [
    "dfg2 = contextual_proximity(dfg1)\n",
    "dfg2.to_csv(output_context_prox_file_with_path, sep=\";\", index=False)\n",
    "dfg2.tail()"
   ]
  },
  {
   "cell_type": "markdown",
   "metadata": {},
   "source": [
    "### Merge both the dataframes"
   ]
  },
  {
   "cell_type": "code",
   "execution_count": null,
   "metadata": {},
   "outputs": [
    {
     "data": {
      "text/html": [
       "<div>\n",
       "<style scoped>\n",
       "    .dataframe tbody tr th:only-of-type {\n",
       "        vertical-align: middle;\n",
       "    }\n",
       "\n",
       "    .dataframe tbody tr th {\n",
       "        vertical-align: top;\n",
       "    }\n",
       "\n",
       "    .dataframe thead th {\n",
       "        text-align: right;\n",
       "    }\n",
       "</style>\n",
       "<table border=\"1\" class=\"dataframe\">\n",
       "  <thead>\n",
       "    <tr style=\"text-align: right;\">\n",
       "      <th></th>\n",
       "      <th>node_1</th>\n",
       "      <th>node_2</th>\n",
       "      <th>chunk_id</th>\n",
       "      <th>edge</th>\n",
       "      <th>count</th>\n",
       "    </tr>\n",
       "  </thead>\n",
       "  <tbody>\n",
       "    <tr>\n",
       "      <th>0</th>\n",
       "      <td>960</td>\n",
       "      <td>dobrawa, a daughter of duke boleslaus i of boh...</td>\n",
       "      <td>8ad949a3488a430cae0864089c8cef99,8ad949a3488a4...</td>\n",
       "      <td>contextual proximity</td>\n",
       "      <td>2</td>\n",
       "    </tr>\n",
       "    <tr>\n",
       "      <th>1</th>\n",
       "      <td>960</td>\n",
       "      <td>margrave gero</td>\n",
       "      <td>8ad949a3488a430cae0864089c8cef99,8ad949a3488a4...</td>\n",
       "      <td>contextual proximity</td>\n",
       "      <td>3</td>\n",
       "    </tr>\n",
       "    <tr>\n",
       "      <th>2</th>\n",
       "      <td>960</td>\n",
       "      <td>mieszko</td>\n",
       "      <td>8ad949a3488a430cae0864089c8cef99,8ad949a3488a4...</td>\n",
       "      <td>contextual proximity</td>\n",
       "      <td>8</td>\n",
       "    </tr>\n",
       "    <tr>\n",
       "      <th>3</th>\n",
       "      <td>960</td>\n",
       "      <td>otto the great</td>\n",
       "      <td>8ad949a3488a430cae0864089c8cef99,8ad949a3488a4...</td>\n",
       "      <td>contextual proximity</td>\n",
       "      <td>2</td>\n",
       "    </tr>\n",
       "    <tr>\n",
       "      <th>4</th>\n",
       "      <td>960</td>\n",
       "      <td>poland</td>\n",
       "      <td>8ad949a3488a430cae0864089c8cef99,8ad949a3488a4...</td>\n",
       "      <td>contextual proximity</td>\n",
       "      <td>2</td>\n",
       "    </tr>\n",
       "    <tr>\n",
       "      <th>...</th>\n",
       "      <td>...</td>\n",
       "      <td>...</td>\n",
       "      <td>...</td>\n",
       "      <td>...</td>\n",
       "      <td>...</td>\n",
       "    </tr>\n",
       "    <tr>\n",
       "      <th>2729</th>\n",
       "      <td>zone of influence</td>\n",
       "      <td>early polish rulers</td>\n",
       "      <td>9e984b449e2c49338bb8f48c0ac557f3,9e984b449e2c4...</td>\n",
       "      <td>contextual proximity</td>\n",
       "      <td>2</td>\n",
       "    </tr>\n",
       "    <tr>\n",
       "      <th>2730</th>\n",
       "      <td>zone of influence</td>\n",
       "      <td>neighbors</td>\n",
       "      <td>9e984b449e2c49338bb8f48c0ac557f3,9e984b449e2c4...</td>\n",
       "      <td>contextual proximity</td>\n",
       "      <td>2</td>\n",
       "    </tr>\n",
       "    <tr>\n",
       "      <th>2731</th>\n",
       "      <td>zone of influence</td>\n",
       "      <td>poland</td>\n",
       "      <td>9e984b449e2c49338bb8f48c0ac557f3,9e984b449e2c4...</td>\n",
       "      <td>contextual proximity</td>\n",
       "      <td>2</td>\n",
       "    </tr>\n",
       "    <tr>\n",
       "      <th>2732</th>\n",
       "      <td>zone of influence</td>\n",
       "      <td>traces of smaller fortifications</td>\n",
       "      <td>9e984b449e2c49338bb8f48c0ac557f3,9e984b449e2c4...</td>\n",
       "      <td>contextual proximity</td>\n",
       "      <td>2</td>\n",
       "    </tr>\n",
       "    <tr>\n",
       "      <th>2733</th>\n",
       "      <td>zone of influence</td>\n",
       "      <td>widukind</td>\n",
       "      <td>9e984b449e2c49338bb8f48c0ac557f3,9e984b449e2c4...</td>\n",
       "      <td>contextual proximity</td>\n",
       "      <td>2</td>\n",
       "    </tr>\n",
       "  </tbody>\n",
       "</table>\n",
       "<p>2734 rows × 5 columns</p>\n",
       "</div>"
      ],
      "text/plain": [
       "                 node_1                                             node_2  \\\n",
       "0                   960  dobrawa, a daughter of duke boleslaus i of boh...   \n",
       "1                   960                                      margrave gero   \n",
       "2                   960                                            mieszko   \n",
       "3                   960                                     otto the great   \n",
       "4                   960                                             poland   \n",
       "...                 ...                                                ...   \n",
       "2729  zone of influence                                early polish rulers   \n",
       "2730  zone of influence                                          neighbors   \n",
       "2731  zone of influence                                             poland   \n",
       "2732  zone of influence                   traces of smaller fortifications   \n",
       "2733  zone of influence                                           widukind   \n",
       "\n",
       "                                               chunk_id                  edge  \\\n",
       "0     8ad949a3488a430cae0864089c8cef99,8ad949a3488a4...  contextual proximity   \n",
       "1     8ad949a3488a430cae0864089c8cef99,8ad949a3488a4...  contextual proximity   \n",
       "2     8ad949a3488a430cae0864089c8cef99,8ad949a3488a4...  contextual proximity   \n",
       "3     8ad949a3488a430cae0864089c8cef99,8ad949a3488a4...  contextual proximity   \n",
       "4     8ad949a3488a430cae0864089c8cef99,8ad949a3488a4...  contextual proximity   \n",
       "...                                                 ...                   ...   \n",
       "2729  9e984b449e2c49338bb8f48c0ac557f3,9e984b449e2c4...  contextual proximity   \n",
       "2730  9e984b449e2c49338bb8f48c0ac557f3,9e984b449e2c4...  contextual proximity   \n",
       "2731  9e984b449e2c49338bb8f48c0ac557f3,9e984b449e2c4...  contextual proximity   \n",
       "2732  9e984b449e2c49338bb8f48c0ac557f3,9e984b449e2c4...  contextual proximity   \n",
       "2733  9e984b449e2c49338bb8f48c0ac557f3,9e984b449e2c4...  contextual proximity   \n",
       "\n",
       "      count  \n",
       "0         2  \n",
       "1         3  \n",
       "2         8  \n",
       "3         2  \n",
       "4         2  \n",
       "...     ...  \n",
       "2729      2  \n",
       "2730      2  \n",
       "2731      2  \n",
       "2732      2  \n",
       "2733      2  \n",
       "\n",
       "[2734 rows x 5 columns]"
      ]
     },
     "execution_count": 24,
     "metadata": {},
     "output_type": "execute_result"
    }
   ],
   "source": [
    "dfg = pd.concat([dfg1, dfg2], axis=0)\n",
    "dfg = (\n",
    "    dfg.groupby([\"node_1\", \"node_2\"])\n",
    "    .agg({\"chunk_id\": \",\".join, \"edge\": ','.join, 'count': 'sum'})\n",
    "    .reset_index()\n",
    ")\n",
    "dfg"
   ]
  },
  {
   "cell_type": "markdown",
   "metadata": {},
   "source": [
    "## Calculate the NetworkX Graph"
   ]
  },
  {
   "cell_type": "code",
   "execution_count": null,
   "metadata": {},
   "outputs": [
    {
     "data": {
      "text/plain": [
       "(401,)"
      ]
     },
     "execution_count": 25,
     "metadata": {},
     "output_type": "execute_result"
    }
   ],
   "source": [
    "nodes = pd.concat([dfg['node_1'], dfg['node_2']], axis=0).unique()\n",
    "nodes.shape"
   ]
  },
  {
   "cell_type": "code",
   "execution_count": null,
   "metadata": {},
   "outputs": [],
   "source": [
    "import networkx as nx\n",
    "G = nx.Graph()\n",
    "\n",
    "## Add nodes to the graph\n",
    "for node in nodes:\n",
    "    G.add_node(\n",
    "        str(node)\n",
    "    )\n",
    "\n",
    "## Add edges to the graph\n",
    "for index, row in dfg.iterrows():\n",
    "    G.add_edge(\n",
    "        str(row[\"node_1\"]),\n",
    "        str(row[\"node_2\"]),\n",
    "        title=row[\"edge\"],\n",
    "        weight=row['count']/4\n",
    "    )"
   ]
  },
  {
   "cell_type": "markdown",
   "metadata": {},
   "source": [
    "### Calculate communities for coloring the nodes"
   ]
  },
  {
   "cell_type": "code",
   "execution_count": null,
   "metadata": {},
   "outputs": [
    {
     "name": "stdout",
     "output_type": "stream",
     "text": [
      "Number of Communities =  6\n",
      "[['960', '970', 'apostles to the slavs', 'archaeologists', 'balkans', 'base in central bohemia', 'basilica de san clemente', 'basilica of san clemente', 'bavarian church', 'bavarian missionaries', 'being thrown overboard in the black sea with an anchor attached to his feet', 'bohemian warlords', 'boleslaus son, duke boleslaus ii', 'bořivoj', 'byzantian empire, slavonic literature and material heritage of the west-slavonic peoples', 'carolingian empire', 'carolingians', 'centers of power', 'charlemagne', 'christianization period, central europe', 'church liturgy', 'church slavonic', 'consolidated protofeudal state, ruling dynasty, castles, church, economy', 'constantinople', 'convert miesco to christianity', 'converting to christianity', 'crimea beach', 'cyrill', 'desire', 'developed later than bohemia', 'dobrawa, a daughter of duke boleslaus i of bohemia', 'early polish rulers', 'east francians', 'economic model', 'emperor in constantinople', 'erected between 920 and 950', 'expanded their territory in all directions', 'fall of great moravia', 'first polish ruler', 'frankish kingdom of east francia', 'franks', 'glagolica', 'gniesno and poznan', 'gniesno in the 10th century', 'great diplomatic success', 'great moravia', 'great moravian empire', 'greek orthodox tradition', 'hebrew, greek and latin', 'house of premyslid', 'importance', 'konstantine (st cyrill)', 'kyrillic alphabet', 'local warlords', 'margrave gero', 'method', 'method’s pupils', 'mieszko', 'military might', 'miraculously recovered', 'missionaries', 'moravian church', 'moravian empire', 'moravian slavic church', 'moravians', 'neighbors', 'new, much larger structures', 'orthodox rites', 'otto the great', 'out old friend', 'patron saint of seafarers', 'peoples', 'period of time', 'playing powers against each other', 'poland', 'polish/ukrainian border', 'politically opportune move', 'pope', \"pope's submission\", 'prince ratislav', 'pupils', 'ratislav, svatopluk', 'rebellion', 'recovery of the relics of san clemente', 'republic of hungary', 'river', 'ruling bohemia', 'saint clement', \"saint clement's body\", 'saint cyrill and saint method', 'san clemente', \"san clemente's body including anchor\", 'saxons', 'slavic language', 'slavic names', 'slavic nations and others', 'slavic people living in the marches', 'southern poland, western hungary', 'st cyrill and method', 'st. method', 'successor', 'svatopluk', 'systematically destroyed', 'the reformation', 'traces of smaller fortifications', 'treaty of friendship with otto the great', 'tribute and raiding into either poland or saxony', 'two brothers', 'two brothers (konstantine and method)', 'western europeans hearing the bible', 'western europeans hearing the bible in a language they understood', 'westwards to the lower oder river', 'wiching', 'widukind', 'year 100 ad', 'zone of influence'], ['aachen', 'abbey founded by monks from corbie', 'access to justice', 'access to markets', \"acting on otto i's behalf\", 'addition to the empire', 'ansgar', 'ansgar and his missionaries', 'archbishopric of hamburg', 'archdiocese', 'armoured knights', 'army', 'ascension of otto to the throne', 'baltic sea', 'baptism and vassalage of emperor otto the great', 'bavaria', 'becoming christian', 'began preaching on the jutland peninsula', 'benedictine monastery in corbie', 'bishop of prague', 'bohemia', 'bohemian dukes and later kings', 'bohemian ruler', 'bohemian semi pagans', 'bohemians', 'boleslaus', \"boleslaus' son, duke boleslaus ii\", \"bremen's bishopric\", 'burning down hamburg', 'calling a meeting', 'callous behavior', 'capture', 'caught up in near constant civil wars', 'central authority', 'change in vital status of his brother', 'changing the government', 'christian and reliable ally of the empire', 'christian powers', 'christian slaves', 'christianity', 'chronicler from corvey', 'city of prague', 'civil wars', 'closely associated with the carolingian family', 'cologne', 'commercial and cultural centre like bergen in norway', 'competing warlords', 'completion of conquest', 'conflict', 'continent', 'conversion of scandinavia', 'conversion to christianity', 'convert pagans further east as part of the great imperial mission to spread the gospel around the world.', 'converted danish ruler', 'convicts given a choice between losing their heads or other extremities', 'corvey', 'creation and miesco i as ruler', 'creation of new bishoprics', 'crumbling after initial success', 'crumbling of discipline of the legion of thieves from merseburg', 'cult of his murdered brother', 'danes', 'danes coming to hamburg', 'danish control', 'death of king henry the fowler', 'defeat at the danevirk', 'defensive line of danevirk', 'denmark', 'discipline of the legion of thieves from merseburg', 'duchy of bohemia', 'duchy of poland', 'duke boleslaus i of bohemia', 'duke of saxony at the time of otto’s death', 'eastern duchy of poland', 'eastwards from the elbe river', 'elbe and oder river', 'elder brother', 'embed christianity in the local population and strengthen imperial control over these territories', 'emperor', 'empire', 'end of economic model', 'escaping from danger', 'existing christian communities', 'expansion of territory', 'extended his activities beyond the borders of the conquered territory', 'famed school and scriptorium', \"father's position\", 'fighting each other', 'first more intense encounter', 'forces', 'frankish nobleman from near amiens', 'freedom', 'friesland', 'general population', 'god alone worshipped', 'good king wenceslaus', 'gorm the old', 'great heathen army', 'had some initial success and converted one of the minor danish rulers', 'half-hearted attempt to bring boleslaus to heel', 'harald', 'harald bluetooth', \"harald's attack on saxony\", 'hatred', 'henry the fowler', 'henry the fowler and the latin rite', 'hermann billung', 'horik the elder', 'hungarians', 'initial success of the legion of thieves from merseburg', 'institution', 'integral part of the empire', 'italy', 'joined the benedictine monastery in corbie as a child', 'justice, taxation, building of castles and cities', 'jutland, seeland and skaene', 'king henry the fowler', 'kingdom of east francia', 'kings', 'kings and emperors', 'last wars', 'lasting roots', 'latin christianity', 'latin rite, orthodox rite, pagan', 'legion of thieves from merseburg', \"limiting otto i's bandwidth\", 'listening to council', 'local aristocrats', 'loss of power', 'lost power', 'lower rhine', 'main danish defence against incursions from the south', 'mainz', 'major powers in the region', 'making an attempt at bringing boleslaus to heel', 'man called ansgar', 'march of lusatia', 'march of meissen', 'march of the billungs', 'marches', 'markets', 'medieval rule', 'miesco i', 'military forces penetration and tribute payment', 'military recovery', 'minor danish ruler', 'missionary bishoprics in schleswig', 'missionary effort', 'missionary effort in sweden', 'modern academic research on the vikings', 'monks from corbie', 'moravia', 'more stable situation', 'multiple raids', 'need for consolidation of power in denmark', 'new bishoprics in brandenburg, havelberg, merseburg, zeitz and meissen and the archbishopric of magdeburg', 'new city', 'new emperor otto ii', 'new oath', 'new targets', 'new targets on the continent', 'newly established library', 'north', 'oath', 'oath of fealty', 'oaths', 'old game', 'other, greater gods', 'otto', 'otto i', \"otto i's saxon vassals\", 'otto ii', 'part of these forces', 'personal rule', 'personal thing', 'playing back and forth with the king of east francia, bavaria and moravia', 'pointy spears, theological doubt', \"political direction, government, brother's vital status\", 'precious relics', 'premislids', 'pretending to be the real duke', 'protection', 'providing military assistance and involvement in the election of the emperor', 'raids', 'ransom payment or successful campaign by otto the great', 'regional kings in denmark', 'regular raids into silesia and northern moravia', 'reigning', 'relations between the danes and the east francian', 'religious conviction', 'religious issue', 'renew their oaths', 'renewal', 'renewal of oaths', 'retaliation by boleslaus troops and loss of limb', 'rhine delta', 'rhine river', 'rock dominating the moldau/vitava river', 'roped into missionary work in the recently acquired land of the saxons', 'rule', \"ruler's presence\", 'saxon castles and their garrisons', 'scandinavia', 'scandinavian history podcast by mikael shainkman', 'schleswig-holstein', 'sending the legion of thieves from merseburg into bohemia', 'sent out to saxony in 822', 'service in war', 'skirmish with boleslaus troops', 'slavic pagan people', 'slavic peoples', 'something going wrong', 'sons', 'st. ansgar', 'stem duchy of saxony', 'stone church in bremen', 'successor of horik the elder', 'superior strength', 'surrender or be traded south as slaves', 'swear fealty to another man, not to an institution', 'taking until 950 to subdue bohemian semi pagans', 'threw out the missionaries', 'trade in slaves', 'traders', 'traditional worship of idols', 'travel to prague', 'treaty of verdun', 'trier', 'tv series vikings', 'various kings', 'vassal', 'vassal status in the east francian kingdom', 'vassals', 'viking lifestyle', 'viking settlements', 'vikings', 'wenceslaus', 'wenceslaus and boleslaus', 'wenceslaus, political direction', 'widukind of corvey', 'wooden churches', 'worship of old gods', 'xanten', 'yoke of imperial vassalage', 'young catholic, expelled the pupils of cyrill and method, pushed conversion amongst the pagans'], ['armoured men on horseback', 'between the rhine and the elbe river', \"charlemagne's invasion in 772\", 'cities', 'conquered lands of slavic tribes', 'death in 973', 'duchy', 'emerged around the seats of bishops or the castles of important noblemen', 'episode 96', 'hermann billung and margrave gero', 'lands divided into four marcher counties', \"last week's exploration\", 'mecklenburg-vorpommern, brandenburg, sachsen anhalt and sachsen', 'military system', 'newly established', 'original territory', 'population of these lands', 'reliance on them in the military system', 'slavic peoples many of whom had at least nominally embraced christianity', 'territories up to oder and neisse rivers', 'well set up'], ['becoming a christian', 'carried by poppo', 'carrying glowing iron', 'demons', 'demonstrating faith', 'glowing hot', 'greater gods', 'iron', 'king harold', 'ordering the cleric to carry glowing iron', 'poppo', 'proclaiming', 'proof of faith', 'quick to listen, slow to speak', 'unharmed hand of poppo'], ['normandy or parts of normandy', 'rollo'], ['political and economic factors', 'work of the missionaries']]\n"
     ]
    }
   ],
   "source": [
    "communities_generator = nx.community.girvan_newman(G)\n",
    "top_level_communities = next(communities_generator)\n",
    "next_level_communities = next(communities_generator)\n",
    "communities = sorted(map(sorted, next_level_communities))\n",
    "print(\"Number of Communities = \", len(communities))\n",
    "print(communities)"
   ]
  },
  {
   "cell_type": "markdown",
   "metadata": {},
   "source": [
    "### Create a dataframe for community colors"
   ]
  },
  {
   "cell_type": "code",
   "execution_count": null,
   "metadata": {},
   "outputs": [
    {
     "data": {
      "text/html": [
       "<div>\n",
       "<style scoped>\n",
       "    .dataframe tbody tr th:only-of-type {\n",
       "        vertical-align: middle;\n",
       "    }\n",
       "\n",
       "    .dataframe tbody tr th {\n",
       "        vertical-align: top;\n",
       "    }\n",
       "\n",
       "    .dataframe thead th {\n",
       "        text-align: right;\n",
       "    }\n",
       "</style>\n",
       "<table border=\"1\" class=\"dataframe\">\n",
       "  <thead>\n",
       "    <tr style=\"text-align: right;\">\n",
       "      <th></th>\n",
       "      <th>node</th>\n",
       "      <th>color</th>\n",
       "      <th>group</th>\n",
       "    </tr>\n",
       "  </thead>\n",
       "  <tbody>\n",
       "    <tr>\n",
       "      <th>0</th>\n",
       "      <td>960</td>\n",
       "      <td>#5f57db</td>\n",
       "      <td>1</td>\n",
       "    </tr>\n",
       "    <tr>\n",
       "      <th>1</th>\n",
       "      <td>970</td>\n",
       "      <td>#5f57db</td>\n",
       "      <td>1</td>\n",
       "    </tr>\n",
       "    <tr>\n",
       "      <th>2</th>\n",
       "      <td>apostles to the slavs</td>\n",
       "      <td>#5f57db</td>\n",
       "      <td>1</td>\n",
       "    </tr>\n",
       "    <tr>\n",
       "      <th>3</th>\n",
       "      <td>archaeologists</td>\n",
       "      <td>#5f57db</td>\n",
       "      <td>1</td>\n",
       "    </tr>\n",
       "    <tr>\n",
       "      <th>4</th>\n",
       "      <td>balkans</td>\n",
       "      <td>#5f57db</td>\n",
       "      <td>1</td>\n",
       "    </tr>\n",
       "    <tr>\n",
       "      <th>...</th>\n",
       "      <td>...</td>\n",
       "      <td>...</td>\n",
       "      <td>...</td>\n",
       "    </tr>\n",
       "    <tr>\n",
       "      <th>396</th>\n",
       "      <td>unharmed hand of poppo</td>\n",
       "      <td>#db57d3</td>\n",
       "      <td>4</td>\n",
       "    </tr>\n",
       "    <tr>\n",
       "      <th>397</th>\n",
       "      <td>normandy or parts of normandy</td>\n",
       "      <td>#57d3db</td>\n",
       "      <td>5</td>\n",
       "    </tr>\n",
       "    <tr>\n",
       "      <th>398</th>\n",
       "      <td>rollo</td>\n",
       "      <td>#57d3db</td>\n",
       "      <td>5</td>\n",
       "    </tr>\n",
       "    <tr>\n",
       "      <th>399</th>\n",
       "      <td>political and economic factors</td>\n",
       "      <td>#57db5f</td>\n",
       "      <td>6</td>\n",
       "    </tr>\n",
       "    <tr>\n",
       "      <th>400</th>\n",
       "      <td>work of the missionaries</td>\n",
       "      <td>#57db5f</td>\n",
       "      <td>6</td>\n",
       "    </tr>\n",
       "  </tbody>\n",
       "</table>\n",
       "<p>401 rows × 3 columns</p>\n",
       "</div>"
      ],
      "text/plain": [
       "                               node    color  group\n",
       "0                               960  #5f57db      1\n",
       "1                               970  #5f57db      1\n",
       "2             apostles to the slavs  #5f57db      1\n",
       "3                    archaeologists  #5f57db      1\n",
       "4                           balkans  #5f57db      1\n",
       "..                              ...      ...    ...\n",
       "396          unharmed hand of poppo  #db57d3      4\n",
       "397   normandy or parts of normandy  #57d3db      5\n",
       "398                           rollo  #57d3db      5\n",
       "399  political and economic factors  #57db5f      6\n",
       "400        work of the missionaries  #57db5f      6\n",
       "\n",
       "[401 rows x 3 columns]"
      ]
     },
     "execution_count": 30,
     "metadata": {},
     "output_type": "execute_result"
    }
   ],
   "source": [
    "import seaborn as sns\n",
    "palette = \"hls\"\n",
    "\n",
    "## Now add these colors to communities and make another dataframe\n",
    "def colors2Community(communities) -> pd.DataFrame:\n",
    "    ## Define a color palette\n",
    "    p = sns.color_palette(palette, len(communities)).as_hex()\n",
    "    random.shuffle(p)\n",
    "    rows = []\n",
    "    group = 0\n",
    "    for community in communities:\n",
    "        color = p.pop()\n",
    "        group += 1\n",
    "        for node in community:\n",
    "            rows += [{\"node\": node, \"color\": color, \"group\": group}]\n",
    "    df_colors = pd.DataFrame(rows)\n",
    "    return df_colors\n",
    "\n",
    "\n",
    "colors = colors2Community(communities)\n",
    "colors"
   ]
  },
  {
   "cell_type": "markdown",
   "metadata": {},
   "source": [
    "### Add colors to the graph"
   ]
  },
  {
   "cell_type": "code",
   "execution_count": null,
   "metadata": {},
   "outputs": [],
   "source": [
    "for index, row in colors.iterrows():\n",
    "    G.nodes[row['node']]['group'] = row['group']\n",
    "    G.nodes[row['node']]['color'] = row['color']\n",
    "    G.nodes[row['node']]['size'] = G.degree[row['node']]"
   ]
  },
  {
   "cell_type": "code",
   "execution_count": null,
   "metadata": {},
   "outputs": [
    {
     "name": "stdout",
     "output_type": "stream",
     "text": [
      "knowledge_graph.html\n"
     ]
    },
    {
     "data": {
      "text/html": [
       "\n",
       "        <iframe\n",
       "            width=\"100%\"\n",
       "            height=\"800px\"\n",
       "            src=\"knowledge_graph.html\"\n",
       "            frameborder=\"0\"\n",
       "            allowfullscreen\n",
       "            \n",
       "        ></iframe>\n",
       "        "
      ],
      "text/plain": [
       "<IPython.lib.display.IFrame at 0x7f1f88e6fbd0>"
      ]
     },
     "execution_count": 33,
     "metadata": {},
     "output_type": "execute_result"
    }
   ],
   "source": [
    "from pyvis.network import Network\n",
    "\n",
    "#graph_output_directory = \"./docs/index.html\"\n",
    "\n",
    "net = Network(\n",
    "    notebook=True,\n",
    "    # bgcolor=\"#1a1a1a\",\n",
    "    cdn_resources=\"remote\",\n",
    "    height=\"800px\",\n",
    "    width=\"100%\",\n",
    "    select_menu=True,\n",
    "    # font_color=\"#cccccc\",\n",
    "    filter_menu=False,\n",
    ")\n",
    "\n",
    "net.from_nx(G)\n",
    "# net.repulsion(node_distance=150, spring_length=400)\n",
    "net.force_atlas_2based(central_gravity=0.015, gravity=-31)\n",
    "# net.barnes_hut(gravity=-18100, central_gravity=5.05, spring_length=380)\n",
    "\n",
    "# net.show(graph_output_directory)\n",
    "net.show_buttons(filter_=['physics'])\n",
    "net.show(\"knowledge_graph.html\")"
   ]
  },
  {
   "cell_type": "code",
   "execution_count": null,
   "metadata": {},
   "outputs": [],
   "source": []
  },
  {
   "cell_type": "code",
   "execution_count": null,
   "metadata": {},
   "outputs": [],
   "source": []
  },
  {
   "cell_type": "code",
   "execution_count": null,
   "metadata": {},
   "outputs": [],
   "source": []
  },
  {
   "cell_type": "code",
   "execution_count": null,
   "metadata": {},
   "outputs": [],
   "source": []
  },
  {
   "cell_type": "code",
   "execution_count": null,
   "metadata": {},
   "outputs": [],
   "source": [
    "# DETAILED STEPS OF TERM PROXIMITY CALCULATION (same as function, only step by step to better understand the process)"
   ]
  },
  {
   "cell_type": "code",
   "execution_count": null,
   "metadata": {},
   "outputs": [],
   "source": [
    "## Melt the dataframe into a list of nodes\n",
    "dfg_long = pd.melt(\n",
    "    dfg1, id_vars=[\"chunk_id\"], value_vars=[\"node_1\", \"node_2\"], value_name=\"node\"\n",
    ")"
   ]
  },
  {
   "cell_type": "code",
   "execution_count": null,
   "metadata": {},
   "outputs": [
    {
     "data": {
      "text/html": [
       "<div>\n",
       "<style scoped>\n",
       "    .dataframe tbody tr th:only-of-type {\n",
       "        vertical-align: middle;\n",
       "    }\n",
       "\n",
       "    .dataframe tbody tr th {\n",
       "        vertical-align: top;\n",
       "    }\n",
       "\n",
       "    .dataframe thead th {\n",
       "        text-align: right;\n",
       "    }\n",
       "</style>\n",
       "<table border=\"1\" class=\"dataframe\">\n",
       "  <thead>\n",
       "    <tr style=\"text-align: right;\">\n",
       "      <th></th>\n",
       "      <th>chunk_id</th>\n",
       "      <th>variable</th>\n",
       "      <th>node</th>\n",
       "    </tr>\n",
       "  </thead>\n",
       "  <tbody>\n",
       "    <tr>\n",
       "      <th>615</th>\n",
       "      <td>9d455bc6ec4946bf81b106a8d103c837</td>\n",
       "      <td>node_2</td>\n",
       "      <td>christian powers</td>\n",
       "    </tr>\n",
       "    <tr>\n",
       "      <th>616</th>\n",
       "      <td>9d455bc6ec4946bf81b106a8d103c837</td>\n",
       "      <td>node_2</td>\n",
       "      <td>superior strength</td>\n",
       "    </tr>\n",
       "    <tr>\n",
       "      <th>617</th>\n",
       "      <td>9d455bc6ec4946bf81b106a8d103c837</td>\n",
       "      <td>node_2</td>\n",
       "      <td>surrender or be traded south as slaves</td>\n",
       "    </tr>\n",
       "    <tr>\n",
       "      <th>618</th>\n",
       "      <td>9d455bc6ec4946bf81b106a8d103c837</td>\n",
       "      <td>node_2</td>\n",
       "      <td>hatred</td>\n",
       "    </tr>\n",
       "    <tr>\n",
       "      <th>619</th>\n",
       "      <td>9d455bc6ec4946bf81b106a8d103c837</td>\n",
       "      <td>node_2</td>\n",
       "      <td>freedom</td>\n",
       "    </tr>\n",
       "  </tbody>\n",
       "</table>\n",
       "</div>"
      ],
      "text/plain": [
       "                             chunk_id variable  \\\n",
       "615  9d455bc6ec4946bf81b106a8d103c837   node_2   \n",
       "616  9d455bc6ec4946bf81b106a8d103c837   node_2   \n",
       "617  9d455bc6ec4946bf81b106a8d103c837   node_2   \n",
       "618  9d455bc6ec4946bf81b106a8d103c837   node_2   \n",
       "619  9d455bc6ec4946bf81b106a8d103c837   node_2   \n",
       "\n",
       "                                       node  \n",
       "615                        christian powers  \n",
       "616                       superior strength  \n",
       "617  surrender or be traded south as slaves  \n",
       "618                                  hatred  \n",
       "619                                 freedom  "
      ]
     },
     "execution_count": 35,
     "metadata": {},
     "output_type": "execute_result"
    }
   ],
   "source": [
    "dfg_long.tail(5)"
   ]
  },
  {
   "cell_type": "code",
   "execution_count": null,
   "metadata": {},
   "outputs": [],
   "source": [
    "dfg_long.drop(columns=[\"variable\"], inplace=True)\n",
    "# Self join with chunk id as the key will create a link between terms occuring in the same text chunk."
   ]
  },
  {
   "cell_type": "code",
   "execution_count": null,
   "metadata": {},
   "outputs": [
    {
     "data": {
      "text/html": [
       "<div>\n",
       "<style scoped>\n",
       "    .dataframe tbody tr th:only-of-type {\n",
       "        vertical-align: middle;\n",
       "    }\n",
       "\n",
       "    .dataframe tbody tr th {\n",
       "        vertical-align: top;\n",
       "    }\n",
       "\n",
       "    .dataframe thead th {\n",
       "        text-align: right;\n",
       "    }\n",
       "</style>\n",
       "<table border=\"1\" class=\"dataframe\">\n",
       "  <thead>\n",
       "    <tr style=\"text-align: right;\">\n",
       "      <th></th>\n",
       "      <th>chunk_id</th>\n",
       "      <th>node</th>\n",
       "    </tr>\n",
       "  </thead>\n",
       "  <tbody>\n",
       "    <tr>\n",
       "      <th>615</th>\n",
       "      <td>9d455bc6ec4946bf81b106a8d103c837</td>\n",
       "      <td>christian powers</td>\n",
       "    </tr>\n",
       "    <tr>\n",
       "      <th>616</th>\n",
       "      <td>9d455bc6ec4946bf81b106a8d103c837</td>\n",
       "      <td>superior strength</td>\n",
       "    </tr>\n",
       "    <tr>\n",
       "      <th>617</th>\n",
       "      <td>9d455bc6ec4946bf81b106a8d103c837</td>\n",
       "      <td>surrender or be traded south as slaves</td>\n",
       "    </tr>\n",
       "    <tr>\n",
       "      <th>618</th>\n",
       "      <td>9d455bc6ec4946bf81b106a8d103c837</td>\n",
       "      <td>hatred</td>\n",
       "    </tr>\n",
       "    <tr>\n",
       "      <th>619</th>\n",
       "      <td>9d455bc6ec4946bf81b106a8d103c837</td>\n",
       "      <td>freedom</td>\n",
       "    </tr>\n",
       "  </tbody>\n",
       "</table>\n",
       "</div>"
      ],
      "text/plain": [
       "                             chunk_id                                    node\n",
       "615  9d455bc6ec4946bf81b106a8d103c837                        christian powers\n",
       "616  9d455bc6ec4946bf81b106a8d103c837                       superior strength\n",
       "617  9d455bc6ec4946bf81b106a8d103c837  surrender or be traded south as slaves\n",
       "618  9d455bc6ec4946bf81b106a8d103c837                                  hatred\n",
       "619  9d455bc6ec4946bf81b106a8d103c837                                 freedom"
      ]
     },
     "execution_count": 37,
     "metadata": {},
     "output_type": "execute_result"
    }
   ],
   "source": [
    "dfg_long.tail(5)"
   ]
  },
  {
   "cell_type": "code",
   "execution_count": null,
   "metadata": {},
   "outputs": [],
   "source": [
    "dfg_wide = pd.merge(dfg_long, dfg_long, on=\"chunk_id\", suffixes=(\"_1\", \"_2\"))"
   ]
  },
  {
   "cell_type": "code",
   "execution_count": null,
   "metadata": {},
   "outputs": [
    {
     "data": {
      "text/html": [
       "<div>\n",
       "<style scoped>\n",
       "    .dataframe tbody tr th:only-of-type {\n",
       "        vertical-align: middle;\n",
       "    }\n",
       "\n",
       "    .dataframe tbody tr th {\n",
       "        vertical-align: top;\n",
       "    }\n",
       "\n",
       "    .dataframe thead th {\n",
       "        text-align: right;\n",
       "    }\n",
       "</style>\n",
       "<table border=\"1\" class=\"dataframe\">\n",
       "  <thead>\n",
       "    <tr style=\"text-align: right;\">\n",
       "      <th></th>\n",
       "      <th>chunk_id</th>\n",
       "      <th>node_1</th>\n",
       "      <th>node_2</th>\n",
       "    </tr>\n",
       "  </thead>\n",
       "  <tbody>\n",
       "    <tr>\n",
       "      <th>0</th>\n",
       "      <td>3b1d78faf9064a97b1b667d4aa940745</td>\n",
       "      <td>episode 96</td>\n",
       "      <td>episode 96</td>\n",
       "    </tr>\n",
       "    <tr>\n",
       "      <th>1</th>\n",
       "      <td>3b1d78faf9064a97b1b667d4aa940745</td>\n",
       "      <td>episode 96</td>\n",
       "      <td>saxons</td>\n",
       "    </tr>\n",
       "    <tr>\n",
       "      <th>2</th>\n",
       "      <td>3b1d78faf9064a97b1b667d4aa940745</td>\n",
       "      <td>episode 96</td>\n",
       "      <td>otto i</td>\n",
       "    </tr>\n",
       "    <tr>\n",
       "      <th>3</th>\n",
       "      <td>3b1d78faf9064a97b1b667d4aa940745</td>\n",
       "      <td>episode 96</td>\n",
       "      <td>duchy</td>\n",
       "    </tr>\n",
       "    <tr>\n",
       "      <th>4</th>\n",
       "      <td>3b1d78faf9064a97b1b667d4aa940745</td>\n",
       "      <td>episode 96</td>\n",
       "      <td>original territory</td>\n",
       "    </tr>\n",
       "  </tbody>\n",
       "</table>\n",
       "</div>"
      ],
      "text/plain": [
       "                           chunk_id      node_1              node_2\n",
       "0  3b1d78faf9064a97b1b667d4aa940745  episode 96          episode 96\n",
       "1  3b1d78faf9064a97b1b667d4aa940745  episode 96              saxons\n",
       "2  3b1d78faf9064a97b1b667d4aa940745  episode 96              otto i\n",
       "3  3b1d78faf9064a97b1b667d4aa940745  episode 96               duchy\n",
       "4  3b1d78faf9064a97b1b667d4aa940745  episode 96  original territory"
      ]
     },
     "execution_count": 39,
     "metadata": {},
     "output_type": "execute_result"
    }
   ],
   "source": [
    "dfg_wide.head()"
   ]
  },
  {
   "cell_type": "code",
   "execution_count": null,
   "metadata": {},
   "outputs": [],
   "source": [
    "# drop self loops\n",
    "self_loops_drop = dfg_wide[dfg_wide[\"node_1\"] == dfg_wide[\"node_2\"]].index\n",
    "dfgraph2 = dfg_wide.drop(index=self_loops_drop).reset_index(drop=True)"
   ]
  },
  {
   "cell_type": "code",
   "execution_count": null,
   "metadata": {},
   "outputs": [
    {
     "data": {
      "text/html": [
       "<div>\n",
       "<style scoped>\n",
       "    .dataframe tbody tr th:only-of-type {\n",
       "        vertical-align: middle;\n",
       "    }\n",
       "\n",
       "    .dataframe tbody tr th {\n",
       "        vertical-align: top;\n",
       "    }\n",
       "\n",
       "    .dataframe thead th {\n",
       "        text-align: right;\n",
       "    }\n",
       "</style>\n",
       "<table border=\"1\" class=\"dataframe\">\n",
       "  <thead>\n",
       "    <tr style=\"text-align: right;\">\n",
       "      <th></th>\n",
       "      <th>chunk_id</th>\n",
       "      <th>node_1</th>\n",
       "      <th>node_2</th>\n",
       "    </tr>\n",
       "  </thead>\n",
       "  <tbody>\n",
       "    <tr>\n",
       "      <th>0</th>\n",
       "      <td>3b1d78faf9064a97b1b667d4aa940745</td>\n",
       "      <td>episode 96</td>\n",
       "      <td>saxons</td>\n",
       "    </tr>\n",
       "    <tr>\n",
       "      <th>1</th>\n",
       "      <td>3b1d78faf9064a97b1b667d4aa940745</td>\n",
       "      <td>episode 96</td>\n",
       "      <td>otto i</td>\n",
       "    </tr>\n",
       "    <tr>\n",
       "      <th>2</th>\n",
       "      <td>3b1d78faf9064a97b1b667d4aa940745</td>\n",
       "      <td>episode 96</td>\n",
       "      <td>duchy</td>\n",
       "    </tr>\n",
       "    <tr>\n",
       "      <th>3</th>\n",
       "      <td>3b1d78faf9064a97b1b667d4aa940745</td>\n",
       "      <td>episode 96</td>\n",
       "      <td>original territory</td>\n",
       "    </tr>\n",
       "    <tr>\n",
       "      <th>4</th>\n",
       "      <td>3b1d78faf9064a97b1b667d4aa940745</td>\n",
       "      <td>episode 96</td>\n",
       "      <td>cities</td>\n",
       "    </tr>\n",
       "  </tbody>\n",
       "</table>\n",
       "</div>"
      ],
      "text/plain": [
       "                           chunk_id      node_1              node_2\n",
       "0  3b1d78faf9064a97b1b667d4aa940745  episode 96              saxons\n",
       "1  3b1d78faf9064a97b1b667d4aa940745  episode 96              otto i\n",
       "2  3b1d78faf9064a97b1b667d4aa940745  episode 96               duchy\n",
       "3  3b1d78faf9064a97b1b667d4aa940745  episode 96  original territory\n",
       "4  3b1d78faf9064a97b1b667d4aa940745  episode 96              cities"
      ]
     },
     "execution_count": 41,
     "metadata": {},
     "output_type": "execute_result"
    }
   ],
   "source": [
    "dfgraph2.head()"
   ]
  },
  {
   "cell_type": "code",
   "execution_count": null,
   "metadata": {},
   "outputs": [],
   "source": [
    "## Group and count edges.\n",
    "dfgraph2 = (\n",
    "    dfgraph2.groupby([\"node_1\", \"node_2\"])\n",
    "    .agg({\"chunk_id\": [\",\".join, \"count\"]})\n",
    "    .reset_index()\n",
    ")"
   ]
  },
  {
   "cell_type": "code",
   "execution_count": null,
   "metadata": {},
   "outputs": [
    {
     "data": {
      "text/html": [
       "<div>\n",
       "<style scoped>\n",
       "    .dataframe tbody tr th:only-of-type {\n",
       "        vertical-align: middle;\n",
       "    }\n",
       "\n",
       "    .dataframe tbody tr th {\n",
       "        vertical-align: top;\n",
       "    }\n",
       "\n",
       "    .dataframe thead tr th {\n",
       "        text-align: left;\n",
       "    }\n",
       "</style>\n",
       "<table border=\"1\" class=\"dataframe\">\n",
       "  <thead>\n",
       "    <tr>\n",
       "      <th></th>\n",
       "      <th>node_1</th>\n",
       "      <th>node_2</th>\n",
       "      <th colspan=\"2\" halign=\"left\">chunk_id</th>\n",
       "    </tr>\n",
       "    <tr>\n",
       "      <th></th>\n",
       "      <th></th>\n",
       "      <th></th>\n",
       "      <th>join</th>\n",
       "      <th>count</th>\n",
       "    </tr>\n",
       "  </thead>\n",
       "  <tbody>\n",
       "    <tr>\n",
       "      <th>0</th>\n",
       "      <td>960</td>\n",
       "      <td>convert miesco to christianity</td>\n",
       "      <td>8ad949a3488a430cae0864089c8cef99</td>\n",
       "      <td>1</td>\n",
       "    </tr>\n",
       "    <tr>\n",
       "      <th>1</th>\n",
       "      <td>960</td>\n",
       "      <td>dobrawa, a daughter of duke boleslaus i of boh...</td>\n",
       "      <td>8ad949a3488a430cae0864089c8cef99,8ad949a3488a4...</td>\n",
       "      <td>2</td>\n",
       "    </tr>\n",
       "    <tr>\n",
       "      <th>2</th>\n",
       "      <td>960</td>\n",
       "      <td>first polish ruler</td>\n",
       "      <td>8ad949a3488a430cae0864089c8cef99</td>\n",
       "      <td>1</td>\n",
       "    </tr>\n",
       "    <tr>\n",
       "      <th>3</th>\n",
       "      <td>960</td>\n",
       "      <td>gniesno in the 10th century</td>\n",
       "      <td>8ad949a3488a430cae0864089c8cef99</td>\n",
       "      <td>1</td>\n",
       "    </tr>\n",
       "    <tr>\n",
       "      <th>4</th>\n",
       "      <td>960</td>\n",
       "      <td>margrave gero</td>\n",
       "      <td>8ad949a3488a430cae0864089c8cef99,8ad949a3488a4...</td>\n",
       "      <td>3</td>\n",
       "    </tr>\n",
       "  </tbody>\n",
       "</table>\n",
       "</div>"
      ],
      "text/plain": [
       "  node_1                                             node_2  \\\n",
       "                                                              \n",
       "0    960                     convert miesco to christianity   \n",
       "1    960  dobrawa, a daughter of duke boleslaus i of boh...   \n",
       "2    960                                 first polish ruler   \n",
       "3    960                        gniesno in the 10th century   \n",
       "4    960                                      margrave gero   \n",
       "\n",
       "                                            chunk_id        \n",
       "                                                join count  \n",
       "0                   8ad949a3488a430cae0864089c8cef99     1  \n",
       "1  8ad949a3488a430cae0864089c8cef99,8ad949a3488a4...     2  \n",
       "2                   8ad949a3488a430cae0864089c8cef99     1  \n",
       "3                   8ad949a3488a430cae0864089c8cef99     1  \n",
       "4  8ad949a3488a430cae0864089c8cef99,8ad949a3488a4...     3  "
      ]
     },
     "execution_count": 43,
     "metadata": {},
     "output_type": "execute_result"
    }
   ],
   "source": [
    "dfgraph2.head()"
   ]
  },
  {
   "cell_type": "code",
   "execution_count": null,
   "metadata": {},
   "outputs": [],
   "source": [
    "dfgraph2.columns = [\"node_1\", \"node_2\", \"chunk_id\", \"count\"]\n",
    "dfgraph2.replace(\"\", np.nan, inplace=True)\n",
    "dfgraph2.dropna(subset=[\"node_1\", \"node_2\"], inplace=True)\n",
    "# Drop edges with 1 count\n",
    "dfgraph2 = dfg2[dfg2[\"count\"] != 1]\n",
    "dfgraph2[\"edge\"] = \"contextual proximity\""
   ]
  },
  {
   "cell_type": "code",
   "execution_count": null,
   "metadata": {},
   "outputs": [
    {
     "data": {
      "text/html": [
       "<div>\n",
       "<style scoped>\n",
       "    .dataframe tbody tr th:only-of-type {\n",
       "        vertical-align: middle;\n",
       "    }\n",
       "\n",
       "    .dataframe tbody tr th {\n",
       "        vertical-align: top;\n",
       "    }\n",
       "\n",
       "    .dataframe thead th {\n",
       "        text-align: right;\n",
       "    }\n",
       "</style>\n",
       "<table border=\"1\" class=\"dataframe\">\n",
       "  <thead>\n",
       "    <tr style=\"text-align: right;\">\n",
       "      <th></th>\n",
       "      <th>node_1</th>\n",
       "      <th>node_2</th>\n",
       "      <th>chunk_id</th>\n",
       "      <th>count</th>\n",
       "      <th>edge</th>\n",
       "    </tr>\n",
       "  </thead>\n",
       "  <tbody>\n",
       "    <tr>\n",
       "      <th>1</th>\n",
       "      <td>960</td>\n",
       "      <td>dobrawa, a daughter of duke boleslaus i of boh...</td>\n",
       "      <td>8ad949a3488a430cae0864089c8cef99,8ad949a3488a4...</td>\n",
       "      <td>2</td>\n",
       "      <td>contextual proximity</td>\n",
       "    </tr>\n",
       "    <tr>\n",
       "      <th>4</th>\n",
       "      <td>960</td>\n",
       "      <td>margrave gero</td>\n",
       "      <td>8ad949a3488a430cae0864089c8cef99,8ad949a3488a4...</td>\n",
       "      <td>3</td>\n",
       "      <td>contextual proximity</td>\n",
       "    </tr>\n",
       "    <tr>\n",
       "      <th>5</th>\n",
       "      <td>960</td>\n",
       "      <td>mieszko</td>\n",
       "      <td>8ad949a3488a430cae0864089c8cef99,8ad949a3488a4...</td>\n",
       "      <td>8</td>\n",
       "      <td>contextual proximity</td>\n",
       "    </tr>\n",
       "    <tr>\n",
       "      <th>6</th>\n",
       "      <td>960</td>\n",
       "      <td>otto the great</td>\n",
       "      <td>8ad949a3488a430cae0864089c8cef99,8ad949a3488a4...</td>\n",
       "      <td>2</td>\n",
       "      <td>contextual proximity</td>\n",
       "    </tr>\n",
       "    <tr>\n",
       "      <th>8</th>\n",
       "      <td>960</td>\n",
       "      <td>poland</td>\n",
       "      <td>8ad949a3488a430cae0864089c8cef99,8ad949a3488a4...</td>\n",
       "      <td>2</td>\n",
       "      <td>contextual proximity</td>\n",
       "    </tr>\n",
       "  </tbody>\n",
       "</table>\n",
       "</div>"
      ],
      "text/plain": [
       "  node_1                                             node_2  \\\n",
       "1    960  dobrawa, a daughter of duke boleslaus i of boh...   \n",
       "4    960                                      margrave gero   \n",
       "5    960                                            mieszko   \n",
       "6    960                                     otto the great   \n",
       "8    960                                             poland   \n",
       "\n",
       "                                            chunk_id  count  \\\n",
       "1  8ad949a3488a430cae0864089c8cef99,8ad949a3488a4...      2   \n",
       "4  8ad949a3488a430cae0864089c8cef99,8ad949a3488a4...      3   \n",
       "5  8ad949a3488a430cae0864089c8cef99,8ad949a3488a4...      8   \n",
       "6  8ad949a3488a430cae0864089c8cef99,8ad949a3488a4...      2   \n",
       "8  8ad949a3488a430cae0864089c8cef99,8ad949a3488a4...      2   \n",
       "\n",
       "                   edge  \n",
       "1  contextual proximity  \n",
       "4  contextual proximity  \n",
       "5  contextual proximity  \n",
       "6  contextual proximity  \n",
       "8  contextual proximity  "
      ]
     },
     "execution_count": 45,
     "metadata": {},
     "output_type": "execute_result"
    }
   ],
   "source": [
    "dfgraph2.head()"
   ]
  },
  {
   "cell_type": "code",
   "execution_count": null,
   "metadata": {},
   "outputs": [
    {
     "name": "stdout",
     "output_type": "stream",
     "text": [
      "<class 'pandas.core.frame.DataFrame'>\n",
      "Index: 2640 entries, 1 to 7203\n",
      "Data columns (total 5 columns):\n",
      " #   Column    Non-Null Count  Dtype \n",
      "---  ------    --------------  ----- \n",
      " 0   node_1    2640 non-null   object\n",
      " 1   node_2    2640 non-null   object\n",
      " 2   chunk_id  2640 non-null   object\n",
      " 3   count     2640 non-null   int64 \n",
      " 4   edge      2640 non-null   object\n",
      "dtypes: int64(1), object(4)\n",
      "memory usage: 123.8+ KB\n"
     ]
    }
   ],
   "source": [
    "dfgraph2.info()"
   ]
  },
  {
   "cell_type": "code",
   "execution_count": null,
   "metadata": {},
   "outputs": [],
   "source": []
  },
  {
   "cell_type": "code",
   "execution_count": null,
   "metadata": {},
   "outputs": [],
   "source": []
  }
 ],
 "metadata": {
  "kernelspec": {
   "display_name": ".venv",
   "language": "python",
   "name": "python3"
  },
  "language_info": {
   "codemirror_mode": {
    "name": "ipython",
    "version": 3
   },
   "file_extension": ".py",
   "mimetype": "text/x-python",
   "name": "python",
   "nbconvert_exporter": "python",
   "pygments_lexer": "ipython3",
   "version": "3.11.4"
  }
 },
 "nbformat": 4,
 "nbformat_minor": 4
}
